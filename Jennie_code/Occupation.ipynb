{
  "cells": [
    {
      "cell_type": "code",
      "metadata": {
        "id": "-HJDWT5rVORA",
        "colab_type": "code",
        "colab": {}
      },
      "source": [
        "import pandas as pd\n",
        "import numpy as np"
      ],
      "execution_count": 1,
      "outputs": []
    },
    {
      "cell_type": "code",
      "metadata": {
        "id": "gMT7YoSPVe2d",
        "colab_type": "code",
        "colab": {
          "base_uri": "https://localhost:8080/",
          "height": 375
        },
        "outputId": "a12a6639-29e6-4887-85a9-ff13e49f87cf"
      },
      "source": [
        "data = pd.read_csv(\"CHINESE DB.csv\")"
      ],
      "execution_count": 2,
      "outputs": []
    },
    {
      "cell_type": "code",
      "metadata": {
        "id": "xhOulWo-VliV",
        "colab_type": "code",
        "colab": {
          "base_uri": "https://localhost:8080/",
          "height": 333
        },
        "outputId": "b99e78be-d70c-4453-d948-c60721e2565f"
      },
      "source": [
        "data.head()"
      ],
      "execution_count": 3,
      "outputs": [
        {
          "output_type": "execute_result",
          "data": {
            "text/plain": "  DONE Y/N NO FORM 431        DATE  Screened  BOX  CASENO1  CASENO2    NAME1  \\\n0      NaN         NaN         NaN     False    1      5.0      3.0     CHIN   \n1      NaN           X  2020.03.18     False    1      5.0      4.0      HOM   \n2      NaN         NaN         NaN     False    1      5.0      9.0  WILLIAM   \n3      NaN         NaN         NaN     False    1      5.0     10.0      LEE   \n4      NaN         NaN         NaN     False    1      5.0     19.0      YEE   \n\n  NAME2 NAME3  ... ENTRYDATE2 OCUPATION2 OCUPATION3 STREET2          CITY2  \\\n0   GOK    PO  ...        NaN        NaN        NaN     NaN            NaN   \n1  CHEE   NaN  ...        NaN        NaN        NaN     NaN            NaN   \n2     K  WONG  ...        NaN        NaN        NaN     NaN            NaN   \n3   DEN   NaN  ...        NaN        NaN        NaN     NaN            NaN   \n4  HING   NaN  ...        NaN        NaN        NaN     NaN  SAN FRANCISCO   \n\n   STATE2  STREET3 CITY3 STATE3 MEMO2  \n0     NaN      NaN   NaN    NaN   NaN  \n1     NaN      NaN   NaN    NaN   NaN  \n2     NaN      NaN   NaN    NaN   NaN  \n3     NaN      NaN   NaN    NaN   NaN  \n4      CA      NaN   NaN    NaN   NaN  \n\n[5 rows x 51 columns]",
            "text/html": "<div>\n<style scoped>\n    .dataframe tbody tr th:only-of-type {\n        vertical-align: middle;\n    }\n\n    .dataframe tbody tr th {\n        vertical-align: top;\n    }\n\n    .dataframe thead th {\n        text-align: right;\n    }\n</style>\n<table border=\"1\" class=\"dataframe\">\n  <thead>\n    <tr style=\"text-align: right;\">\n      <th></th>\n      <th>DONE Y/N</th>\n      <th>NO FORM 431</th>\n      <th>DATE</th>\n      <th>Screened</th>\n      <th>BOX</th>\n      <th>CASENO1</th>\n      <th>CASENO2</th>\n      <th>NAME1</th>\n      <th>NAME2</th>\n      <th>NAME3</th>\n      <th>...</th>\n      <th>ENTRYDATE2</th>\n      <th>OCUPATION2</th>\n      <th>OCUPATION3</th>\n      <th>STREET2</th>\n      <th>CITY2</th>\n      <th>STATE2</th>\n      <th>STREET3</th>\n      <th>CITY3</th>\n      <th>STATE3</th>\n      <th>MEMO2</th>\n    </tr>\n  </thead>\n  <tbody>\n    <tr>\n      <th>0</th>\n      <td>NaN</td>\n      <td>NaN</td>\n      <td>NaN</td>\n      <td>False</td>\n      <td>1</td>\n      <td>5.0</td>\n      <td>3.0</td>\n      <td>CHIN</td>\n      <td>GOK</td>\n      <td>PO</td>\n      <td>...</td>\n      <td>NaN</td>\n      <td>NaN</td>\n      <td>NaN</td>\n      <td>NaN</td>\n      <td>NaN</td>\n      <td>NaN</td>\n      <td>NaN</td>\n      <td>NaN</td>\n      <td>NaN</td>\n      <td>NaN</td>\n    </tr>\n    <tr>\n      <th>1</th>\n      <td>NaN</td>\n      <td>X</td>\n      <td>2020.03.18</td>\n      <td>False</td>\n      <td>1</td>\n      <td>5.0</td>\n      <td>4.0</td>\n      <td>HOM</td>\n      <td>CHEE</td>\n      <td>NaN</td>\n      <td>...</td>\n      <td>NaN</td>\n      <td>NaN</td>\n      <td>NaN</td>\n      <td>NaN</td>\n      <td>NaN</td>\n      <td>NaN</td>\n      <td>NaN</td>\n      <td>NaN</td>\n      <td>NaN</td>\n      <td>NaN</td>\n    </tr>\n    <tr>\n      <th>2</th>\n      <td>NaN</td>\n      <td>NaN</td>\n      <td>NaN</td>\n      <td>False</td>\n      <td>1</td>\n      <td>5.0</td>\n      <td>9.0</td>\n      <td>WILLIAM</td>\n      <td>K</td>\n      <td>WONG</td>\n      <td>...</td>\n      <td>NaN</td>\n      <td>NaN</td>\n      <td>NaN</td>\n      <td>NaN</td>\n      <td>NaN</td>\n      <td>NaN</td>\n      <td>NaN</td>\n      <td>NaN</td>\n      <td>NaN</td>\n      <td>NaN</td>\n    </tr>\n    <tr>\n      <th>3</th>\n      <td>NaN</td>\n      <td>NaN</td>\n      <td>NaN</td>\n      <td>False</td>\n      <td>1</td>\n      <td>5.0</td>\n      <td>10.0</td>\n      <td>LEE</td>\n      <td>DEN</td>\n      <td>NaN</td>\n      <td>...</td>\n      <td>NaN</td>\n      <td>NaN</td>\n      <td>NaN</td>\n      <td>NaN</td>\n      <td>NaN</td>\n      <td>NaN</td>\n      <td>NaN</td>\n      <td>NaN</td>\n      <td>NaN</td>\n      <td>NaN</td>\n    </tr>\n    <tr>\n      <th>4</th>\n      <td>NaN</td>\n      <td>NaN</td>\n      <td>NaN</td>\n      <td>False</td>\n      <td>1</td>\n      <td>5.0</td>\n      <td>19.0</td>\n      <td>YEE</td>\n      <td>HING</td>\n      <td>NaN</td>\n      <td>...</td>\n      <td>NaN</td>\n      <td>NaN</td>\n      <td>NaN</td>\n      <td>NaN</td>\n      <td>SAN FRANCISCO</td>\n      <td>CA</td>\n      <td>NaN</td>\n      <td>NaN</td>\n      <td>NaN</td>\n      <td>NaN</td>\n    </tr>\n  </tbody>\n</table>\n<p>5 rows × 51 columns</p>\n</div>"
          },
          "metadata": {},
          "execution_count": 3
        }
      ]
    },
    {
      "cell_type": "code",
      "metadata": {
        "id": "9RBArZUpWQRO",
        "colab_type": "code",
        "colab": {}
      },
      "source": [
        "pd.set_option('display.max_columns', None)\n",
        "pd.set_option('display.max_rows', None)"
      ],
      "execution_count": 4,
      "outputs": []
    },
    {
      "cell_type": "code",
      "execution_count": 5,
      "metadata": {},
      "outputs": [],
      "source": [
        "from fuzzywuzzy import process as process\n",
        "from fuzzywuzzy import fuzz as fuzz\n",
        "def similar(df, column, string_to_match, min_ratio = 90):\n",
        "    # get a list of unique strings\n",
        "    strings = df[column].unique()\n",
        "    \n",
        "    # get the top 10 closest matches to our input string\n",
        "    matches = process.extract(string_to_match, strings, limit=10, scorer= fuzz.token_sort_ratio)\n",
        "\n",
        "    # only get matches with a ratio > 90\n",
        "    close_matches = [matches[0] for matches in matches if matches[1] >= min_ratio]\n",
        "\n",
        "    print(close_matches)\n",
        "def replace_matches_in_column(df, column, string_to_match, min_ratio = 90):\n",
        "    # get a list of unique strings\n",
        "    strings = df[column].unique()\n",
        "    \n",
        "    # get the top 10 closest matches to our input string\n",
        "    matches = process.extract(string_to_match, strings, limit=10, scorer= fuzz.token_sort_ratio)\n",
        "\n",
        "    # only get matches with a ratio > 90\n",
        "    close_matches = [matches[0] for matches in matches if matches[1] >= min_ratio]\n",
        "\n",
        "    # get the rows of all the close matches in our dataframe\n",
        "    rows_with_matches = df[column].isin(close_matches)\n",
        "\n",
        "    # replace all rows with close matches with the input matches \n",
        "    df.loc[rows_with_matches, column] = string_to_match\n",
        "    print(close_matches)\n",
        "    # let us know the function's done\n",
        "    print(\"All done!\")"
      ]
    },
    {
      "cell_type": "code",
      "execution_count": 6,
      "metadata": {},
      "outputs": [],
      "source": [
        "lissy = data.loc[:,\"OCUPATION1\"]\n",
        "index = data.columns.get_loc(\"OCUPATION1\")\n",
        "ind_1 = index \n",
        "data.insert(ind_1,'ORIGINALOCU1',lissy)"
      ]
    },
    {
      "cell_type": "code",
      "execution_count": 7,
      "metadata": {},
      "outputs": [],
      "source": [
        "lissy = data.loc[:,\"OCUPATION2\"]\n",
        "index = data.columns.get_loc(\"OCUPATION2\")\n",
        "ind_1 = index \n",
        "data.insert(ind_1,'ORIGINALOCU2',lissy)"
      ]
    },
    {
      "cell_type": "code",
      "execution_count": 8,
      "metadata": {},
      "outputs": [],
      "source": [
        "lissy = data.loc[:,\"OCUPATION3\"]\n",
        "index = data.columns.get_loc(\"OCUPATION3\")\n",
        "ind_1 = index\n",
        "data.insert(ind_1,'ORIGINALOCU3',lissy)"
      ]
    },
    {
      "cell_type": "code",
      "metadata": {
        "id": "x1HRTFInY_K6",
        "colab_type": "code",
        "colab": {}
      },
      "source": [
        "#combining merchant\n",
        "data[\"OCUPATION1\"].replace([\"TREATY MERCHANT\",\"TEA MERCHANT\",\"MERCHANT(CHINESE DRUG)\",\"MERCHANT (DRUGGIST)\",\"BANKER\"],\"MRECHANT\", inplace = True)"
      ],
      "execution_count": 9,
      "outputs": []
    },
    {
      "cell_type": "code",
      "execution_count": 10,
      "metadata": {},
      "outputs": [],
      "source": [
        "#other combination\n",
        "data[\"OCUPATION1\"].replace(\"GROCER\",\"GROCERY\",inplace=True)\n",
        "data[\"OCUPATION1\"].replace([\"RESTAURANT ASSIST MANAGER\",\"MANAGER OF RESTAURANT\",\"RESTAURANT BUSINESS\",\"RESTAURANT PROPRIETOR\",\"RESTAURANT PROPRIETOR\",\"RESTAURANT KEEPER\",\"RESTAURANT\",\"RESTAURANT MANAGER\",\"RESTAURANT MANAGER\",\"RESTAURATEUR\",\"RESTAURANTER\",\"RESTUARNAT MANAGER\"],\"RESTAURANT OWNER\",inplace = True)\n",
        "\n",
        "data[\"OCUPATION1\"].replace(\"LAUNDRY OPERATOR\",\"LAUNDRY PROPRIETOR\",inplace = True)\n"
      ]
    },
    {
      "cell_type": "code",
      "execution_count": 11,
      "metadata": {},
      "outputs": [],
      "source": [
        "#Native\n",
        "data[\"OCUPATION1\"].replace([\"NATIVE CHILD\",\"ALLEGED NATIVE\",\"NATIVE BORN\",\"RETURNING NATIVE\"],\"CITIZEN\", inplace = True)"
      ]
    },
    {
      "cell_type": "code",
      "execution_count": 12,
      "metadata": {},
      "outputs": [],
      "source": [
        "#combining cook\n",
        "data[\"OCUPATION1\"].replace([\"COOK ON SHIP\",\"1ST COOK\",\"PASTRY COOK\",\"DISH WASHER & COOK\",\"RESTAURANT COOK\",\"ARMY COOK\",\"SHIP COOK\"],\"COOK\", inplace = True)"
      ]
    },
    {
      "cell_type": "code",
      "execution_count": 13,
      "metadata": {},
      "outputs": [],
      "source": [
        "#combining transient\n",
        "data[\"OCUPATION1\"].replace([\"TRANSIT\",\"IN TRANSIT\",\"BONDED TRANSIT\"],\"TRANSIENT\",inplace = True)\n",
        "data[\"OCUPATION1\"].replace(\"MERCHANT/TRANSIENT\",\"TRANSIENT MERCHANT\",inplace = True)\n"
      ]
    },
    {
      "cell_type": "code",
      "metadata": {
        "id": "NjeGj56QWZci",
        "colab_type": "code",
        "colab": {}
      },
      "source": [
        "#miss-spelling\n",
        "data[\"OCUPATION1\"].replace([\"SON OF CITIZEN\",\"SON OF CITIZE\",\"SON OF CITIEN\",\"SON OF CITIZIN\",\"SON/CITIZEN\",\"SON OF CITIZENT\",\"SON OF SITIZEN\",\"Son of citizen\",\"MINOR SON OF A CITIZEN\",\"SON OF A DECEASED CITIZEN\",\"SON OF CITITZEN\",\"SON OF U.S. CITIZEN\",\"SON OF HAWAII BORN CITIZE\",\"SUN OF CITIZEN\"],\"SON OF A CITIZEN\", inplace = True)\n",
        "data[\"OCUPATION1\"].replace([\"SON OF NATIVE\",\"SON OF A NAITVE\",\"SON OF NATIVE (GOW YOUNG)\",\"SON/NATIVE\",\"SON OF A NTIAVE\",\"SON OF A DECEASED NATIVE\",\"MINOR SON OF A NATIVE\"],\"SON OF A CITIZEN\", inplace = True)\n",
        "data[\"OCUPATION1\"].replace([\"SON OF MERCHANT\",\"SON/MERCHANT\",\"SON OF A MERCHATN\",\"SONF OF A MERCHANT\",\"MERCHAN\",\"SON OF MERCANT\",\"SON OF MERHCANT\",\"MERCHANT'S SON\",\"MINOR SON OF A MERCHANT\",\"SON OF MERCHANT(CHIN YOU)\",\"MONOR SON OF MERCHANT\"], \"SON OF A MERCHANT\", inplace = True)\n",
        "data[\"OCUPATION1\"].replace([\"UNITED STATES CITIZEN\",\"CITIZEN'S STATUS\"], \"CITIZEN\", inplace = True)\n",
        "data[\"OCUPATION1\"].replace([\"WIFE OF DIPLOMAT\",\"DIPLOMAT'S WIFE\"], \"WIFE OF A DIPLOMAT\", inplace = True)\n",
        "data[\"OCUPATION1\"].replace([\"WIFE OF NATIV\",\"WIFE OF NATIVE\"], \"WIFE OF A CITIZEN\", inplace = True)\n",
        "data[\"OCUPATION1\"].replace([\"WIFE OF MERCHANT\",\"MERCHANT'S WIFE\"],\"WIFE OF A MERCHANT\", inplace = True)\n",
        "data[\"OCUPATION1\"].replace([\"WIFE OF INTERPRETER\"],\"WIFE OF AN INTERPRETER\", inplace = True)\n",
        "data[\"OCUPATION1\"].replace([\"DIPLMAT\",\"DIPLIMAT\"],\"DIPLOMAT\", inplace = True)\n",
        "data[\"OCUPATION1\"].replace([\"STUDNET\",\"ADMITTED AS STUDENT\",\"RETURNING STUDENT\",\"ART STUDENT\",\"GOVERNMENT STUDENT\"], \"STUDENT\", inplace = True)\n",
        "data[\"OCUPATION1\"].replace([\"Merchant\",\"MERCHANRT\",\"MERHCANT\",\"MRECHANT\",\"SOPESTONE MERCHANT\",\"MERCHANT (TEMP. VISIT)\",\"MERCHANT (TEMP. VISITOR)\",\"RETURNING MERCHANT\"], \"MERCHANT\", inplace = True)\n",
        "data[\"OCUPATION1\"].replace([\"Wife of citizen\", \"WIFE OF CITIZEN\",\"WIFE/CITIZEN\"],\"WIFE OF A CITIZEN\", inplace = True)\n"
      ],
      "execution_count": 14,
      "outputs": []
    },
    {
      "cell_type": "code",
      "execution_count": 15,
      "metadata": {},
      "outputs": [],
      "source": [
        "data[\"OCUPATION1\"].replace([\"LAUNDRYMEN\",\"LAUNDDRYMAN\",\"LAUNDYRMAN\",\"LUNDRYMAN\",\"LANUNDRYMAN\"],\"LAUNDRYMAN\", inplace = True)\n",
        "data[\"OCUPATION1\"].replace([\"LOBORER\",\"LAORER\",\"LABORE\",\"LABORERS\",\"LABORER RETURN\",\"LABORER (WAITER)\",\"LABORER- TRAVELER\",\"FARM LABORER\",\"LABOR\"],\"LABORER\", inplace = True)\n",
        "data[\"OCUPATION1\"].replace(\"RETAURANT\",\"RESTAURANT\", inplace = True)\n",
        "data[\"OCUPATION1\"].replace([\"LAUNDRYK\",\"LAUDRY\",\"LAUDNRY\"],\"LAUNDRY\", inplace = True)\n",
        "data[\"OCUPATION1\"].replace([\"NATIVE LAUNDRY\",\"LAUNDRY\"],\"LAUNDRYMAN\",inplace = True)\n",
        "data[\"OCUPATION1\"].replace([\"928 FULTON ST\",\"3\",\"NAME\"],np.nan, inplace = True)\n",
        "data[\"OCUPATION1\"].replace([\"NATIVE RETURN\"],\"RETURNING CITIZEN\", inplace = True)\n",
        "data[\"OCUPATION1\"].replace([\"MERCHANT RETURN\"],\"RETURNING MERCHANT\", inplace = True)\n",
        "data[\"OCUPATION1\"].replace([\"CITIZEN'S RETURN\",\"CITIZENS RETURN\",\"CITIZEN RETURN\"],\"RETURNING CITIZEN\", inplace = True)\n",
        "data[\"OCUPATION1\"].replace([\"WIFE OF STUDENT\"],\"WIFE OF A STUDENT\", inplace = True)\n",
        "data[\"OCUPATION1\"].replace([\"MINOR SON OF MERCHANT\",\"MINOR SON MERCHANT\",\"MINOR OF MERCHANT\",\"MONOR SON OF A MERCNANT\",\"MIRON SON OF MERCHANT\",\"MONOR SON OF A MERCHANT\"],\"SON OF A MERCHANT\", inplace = True)\n"
      ]
    },
    {
      "cell_type": "code",
      "execution_count": 16,
      "metadata": {},
      "outputs": [],
      "source": [
        "data[\"OCUPATION1\"].replace([\"MINOR SON OF CITIZEN\"],\"MINOR SON OF A CITIZEN\", inplace = True)\n",
        "data[\"OCUPATION1\"].replace([\"MINOR SON OF NATIVE\"],\"MINOR SON OF A CITIZEN\", inplace = True)\n",
        "data[\"OCUPATION1\"].replace([\"DAUGHTER OF CITIZEN\"],\"DAUGHTER OF A CITIZEN\", inplace = True)\n",
        "data[\"OCUPATION1\"].replace([\"GRANDSON OF CITIZEN\"],\"GRANDSON OF A CITIZEN\", inplace = True)\n",
        "data[\"OCUPATION1\"].replace([\"DAUGHTER OF NATIVE\",\"DAUGHTER OF NAITVE\",\"DAUGTHER OF NATIVE\",\"DAUGHTER OF FEMALE NATIVE\"],\"DAUGHTER OF A CITIZEN\", inplace = True)\n",
        "data[\"OCUPATION1\"].replace([\"DAUGHTER OF MERCHANT\",\"Merchant'sAdoptedDaughter\"],\"DAUGHTER OF A MERCHANT\", inplace = True)\n",
        "data[\"OCUPATION1\"].replace([\"TRAVELLER\",\"TRAVEL\",\"TRAVELLER\"],\"TRAVELER\", inplace = True)\n",
        "data[\"OCUPATION1\"].replace([\"JORNALIST\"],\"JOURNALIST\", inplace = True)\n",
        "data[\"OCUPATION1\"].replace([\"GOV'T OFFICIAL\",\"GOVERNMENT OFFICIER*\",\"GOVT. OFFICIAL\",\"GOVERNMENT OFFICIALS\"],\"GOVERNMENT OFFICIAL\", inplace = True)\n",
        "data[\"OCUPATION1\"].replace([\"OFFICAL\"],\"OFFICIAL\", inplace = True)\n",
        "data[\"OCUPATION1\"].replace([\"STOWAWAYS\"],\"STOWAWAY\", inplace = True)\n",
        "data[\"OCUPATION1\"].replace([\"ACTORS\",\"ACOTR\"],\"ACTOR\", inplace = True)\n",
        "data[\"OCUPATION1\"].replace([\"ADOPTED SON OF MERCHANT\"],\"ADOPTED SON OF A MERCHANT\", inplace = True)"
      ]
    },
    {
      "cell_type": "code",
      "metadata": {
        "id": "Q5IzlAkjPrdh",
        "colab_type": "code",
        "colab": {}
      },
      "source": [
        "#COMBINING DIFFERENT TYPES OF \"SON\"\n",
        "data[\"OCUPATION1\"].replace([\"NATIVE SON OF MERCHANT\",\"ADOPTED SON OF A MERCHANT\"],\"SON OF A MERCHANT\", inplace = True)\n",
        "data[\"OCUPATION1\"].replace([\"ADOPTED SON OF A CITIZEN\"],\"SON OF A CITIZEN\", inplace = True)\n",
        "data[\"OCUPATION1\"].replace([\"ADOPTED SON OF A NATIVE\",\"SON OF FEMALE NATIVE\",\"SON OF HAWAII NATIVE\"],\"SON OF A CITIZEN\", inplace = True)\n",
        "data[\"OCUPATION1\"].replace([\"DAUGHTER OF HAWAII NATIVE\"],\"DAUGHTER OF A CITIZEN\", inplace = True)"
      ],
      "execution_count": 17,
      "outputs": []
    },
    {
      "cell_type": "code",
      "execution_count": 18,
      "metadata": {
        "tags": []
      },
      "outputs": [
        {
          "output_type": "stream",
          "name": "stdout",
          "text": "['FARMER', 'BARBER', 'FARM LABORER']\n['BOOKKEEPER', 'CASHIER & BOOKKEEPER', 'MANAGER & BOOKKEEPER', 'BOOKKEEPER & SALESMAN', 'SALESMAN & BOOKKEEPER', 'BOOKKEEPER & COLLECTER']\n['RESTAURATEUR', 'RESTAURANT', 'RESTAURANT WORKER', 'RESTUARANT WORKER', 'TREASURER']\n['LAUNDRYMAN', 'LAUNDRYAMAN', 'LAUNDRY', 'LAUNDRYK', 'LAUUNDRY', 'SEAMAN & LAUNDRYMAN']\n['MERCHANT', 'MERCHNAT', 'PICKLE MERCHANT', 'SON OF MERCHANT', 'SERVANT', 'WIFE OF MERCHANT']\n['SON OF A CITIZEN', 'SON OF CITIZEN', 'SON/CITIZEN', 'SON OF NATIVE', 'SON OF A MERCHANT']\n['WAITER', 'PAINTER', 'HEAD WAITER', 'COOK & WAITER', 'WAITRESS']\n['LABORER', 'LABOERE', 'FARM LABORER']\n['CLERK']\n['STUDENT', 'WAITER & STUDENT', 'STUDENT (AGE 10)']\n['RESTAURANT MANAGER', 'RESTAURANT ASSIST MANAGER', 'RESTAURANT OWNER', 'PRESIDENT & MANAGER', 'RESTAURANT', 'RESTAURANT PROPRIETOR']\n['SON OF A MERCHANT', 'SON OF MERCHANT', 'MINOR SON OF A MERCHANT', 'ADOPTED SON OF A MERCHANT', 'SECTION 6 MERCHANT', 'WIFE OF MERCHANT', 'DAUGHTER OF MERCHANT', 'SON OF A CITIZEN', 'MERCHANT (SANG CHANG CO.)']\n['COOK']\n['IN TRANSIT', 'TRANSIT', 'TRANSIENT']\n['SALESMAN', 'SALESMAN & BUYER', 'SEAMAN', 'POULTRY SALESMAN']\n['DOMESTIC WORKER']\n['CASHIER', 'CAHSIER']\n['SALESMAN & COLLECTOR', 'POULTRY SALESMAN', 'MUSEUM COLLECTOR', 'SALESMAN & BUYER', 'COLLECTOR', 'LIVE POULTRY SALESMAN', 'BOOKKEEPER & SALESMAN', 'SALESMAN & BOOKKEEPER']\n['BUYER', 'BUTLER']\n['BUYER & STOCK KEEPER']\n['ASSISTANT MANAGER', 'RESTAURANT ASSIST MANAGER']\n['BARBER', 'FARMER']\n['JOURNALIST']\n['CHINESE GROCER', 'CHINESE DOCTOR', 'CHINESE OFFICIAL']\n['SECRETARY']\n['MINOR']\n['MANAGER']\n['DISHWASHER', 'DISWASHER', 'DISHWASHER & WAITER']\n['YOUTH']\n['PRESIDENT', 'PRESIDENT & MANAGER', 'TRANSIENT']\n[\"CITIZEN'S RETURN\", 'RETURNING CITIZEN', 'SON/CITIZEN', 'SON OF CITIZEN']\n['TEACHER']\n['LAUNDRY', 'LAUNDRYK', 'LAUUNDRY', 'LAUNDRYMAN', 'LAUNDRYAMAN']\n['RESTUARANT WORKER', 'RESTAURANT WORKER', 'RESTAURANT']\n['RESTAURANT ASSIST MANAGER', 'RESTAURANT MANAGER', 'RESTAURANT OWNER', 'ASSISTANT MANAGER']\n['IMPORTER']\n['CIVIL ENGINEER', 'ENGINEER', 'ELECTRIC ENGINEER', 'CONSULTING ENGINEER']\n['CIGAR MAKER', 'BOILER MAKER', 'CIGAR FACTORY']\n[\"REC'D & SHIPPING CLERK\"]\n['SINGER']\n['COLLECTOR', 'MUSEUM COLLECTOR', 'SALESMAN & COLLECTOR', 'SOLICITOR', 'DOCTOR']\n['PHYSICIAN']\n['SEAMAN', 'SALESMAN']\n['GENERAL HELPER', 'GENERAL MANAGER']\n['RESTAURANT WORKER', 'RESTUARANT WORKER', 'RESTAURANT', 'RESTAURATEUR']\n['WIFE OF A STUDENT', 'WAITER & STUDENT']\n['GROCER', 'GROCERY']\n['WAITER & STUDENT', 'WIFE OF A STUDENT', 'STUDENT']\n['LAUNDRY PROPRIETOR', 'LAUNDRY PROPRIETER']\n['ADOPTED DAUGHTER', 'ADOPTED DAUGHER']\n['BOATSWAIN']\n['#1 FIREMAN', 'FIREMAN']\n['ADOPTED SON OF A MERCHANT', 'SON OF A MERCHANT', 'SON OF MERCHANT', 'MINOR SON OF A MERCHANT', 'DAUGHTER OF MERCHANT']\n['MINOR SON OF A MERCHANT', 'SON OF A MERCHANT', 'SON OF MERCHANT', 'ADOPTED SON OF A MERCHANT']\n['STOWAWAY']\n['FIREMAN', '#1 FIREMAN']\n['NEWSPAPER MANAGER', 'THEATER MANAGER']\n['ADOPTED DAUGHER', 'ADOPTED DAUGHTER']\n['LAUNDRY PROPRIETER', 'LAUNDRY PROPRIETOR']\n['CURIOS DEALER']\n['NURSE']\n['HEAD WAITER', 'WAITER']\n['DISHWASHER & WAITER', 'DISHWASHER', 'DISWASHER']\n['TRAVELER']\n['RESTAURANT PROPRIETOR', 'RESTAURANT OWNER', 'RESTAURANT MANAGER', 'RESTAURANT']\n['KITCHEN WORKER & BUSBOY']\n['VEGETABLE PEDDLER']\n['BOOKKEEPER & SALESMAN', 'SALESMAN & BOOKKEEPER', 'MANAGER & BOOKKEEPER', 'SALESMAN & BUYER', 'CASHIER & BOOKKEEPER', 'BOOKKEEPER', 'BOOKKEEPER & COLLECTER', 'SALESMAN & COLLECTOR']\n['EDITOR IN CHIEF']\n['CASHIER & BOOKKEEPER', 'MANAGER & BOOKKEEPER', 'BOOKKEEPER & COLLECTER', 'BOOKKEEPER', 'BOOKKEEPER & SALESMAN', 'SALESMAN & BOOKKEEPER']\n['LIFE INSURANCE SALESMAN']\n['CHINESE DOCTOR', 'CHINESE GROCER', 'CHINESE MEDICAL DOCTOR', 'CHINESE OFFICIAL']\n['GENERAL MANAGER', 'GENERAL HELPER', 'MANAGER & BOOKKEEPER']\n['CROONER']\n['COOK & WAITER', 'WAITER']\n['TREASURER', 'RESTAURATEUR']\n['CAHSIER', 'CASHIER']\n['PROFESSOR OF HISTORY']\n['CHRISTIAN MINISTER']\n['BOOKKEEPER & SALESMAN', 'SALESMAN & BOOKKEEPER', 'MANAGER & BOOKKEEPER', 'SALESMAN & BUYER', 'CASHIER & BOOKKEEPER', 'BOOKKEEPER', 'BOOKKEEPER & COLLECTER', 'SALESMAN & COLLECTOR']\n['PRESIDENT & MANAGER', 'RESTAURANT MANAGER', 'PRESIDENT']\n['INTERPRETER', 'CHINESE INTERPRETER']\n['HEAD COOK']\n['SALESMAN & BUYER', 'SALESMAN', 'BOOKKEEPER & SALESMAN', 'SALESMAN & BOOKKEEPER', 'POULTRY SALESMAN', 'SALESMAN & COLLECTOR']\n['ACTOR', 'DOCTOR', 'ACTRESS']\n['LIVE POULTRY SALESMAN', 'POULTRY SALESMAN', 'SALESMAN & COLLECTOR']\n['POULTRY SALESMAN', 'LIVE POULTRY SALESMAN', 'SALESMAN & COLLECTOR', 'SALESMAN & BUYER', 'SALESMAN']\n['BOOKKEEPER & COLLECTER', 'CASHIER & BOOKKEEPER', 'MANAGER & BOOKKEEPER', 'BOOKKEEPER', 'BOOKKEEPER & SALESMAN', 'SALESMAN & BOOKKEEPER']\n['MANAGER & BOOKKEEPER', 'CASHIER & BOOKKEEPER', 'BOOKKEEPER & SALESMAN', 'SALESMAN & BOOKKEEPER', 'BOOKKEEPER', 'BOOKKEEPER & COLLECTER', 'GENERAL MANAGER']\n['CHINESE MEDICAL DOCTOR', 'CHINESE DOCTOR', 'CHINESE OFFICIAL']\n['MAIL ATTENDANT']\n['PEDDLER']\n['ENGLISH EDITOR']\n['MEDICAL STUDENT', 'ADMITTED AS STUDENT']\n['SEAMAN & LAUNDRYMAN', 'LAUNDRYAMAN', 'LAUNDRYMAN']\n['PACKER']\n['DIPLOMAT']\n['ELECTRIC ENGINEER', 'ELECTRICAL TECHNICIAN', 'CONSULTING ENGINEER', 'CIVIL ENGINEER']\n['MERCHANT (SANG CHANG CO.)', 'SON OF A MERCHANT']\n['RESTAURANT', 'RESTAURATEUR', 'RESTAURANT OWNER', 'RESTAURANT WORKER', 'RESTAURANT MANAGER', 'RESTUARANT WORKER', 'RESTAURANT PROPRIETOR']\n['SOLICITOR', 'COLLECTOR', 'DOCTOR']\n['OFFICIAL', 'OFFICIAL STATUS', 'CHINESE OFFICIAL']\n['BARRISTER AT LAW']\n['LABOERE', 'LABORER']\n['LAUNDRYAMAN', 'LAUNDRYMAN', 'SEAMAN & LAUNDRYMAN', 'LAUNDRY', 'LAUNDRYK', 'LAUUNDRY']\n['MISSIONARY']\n['TRANSIENT', 'TRANSIT', 'IN TRANSIT', 'PRESIDENT']\n['AVIATION INSTRUCTOR']\n['DELEGATE']\n['HOTEL OPERATOR']\n['MINISTER', 'PAINTER']\n['ENGINEER', 'CIVIL ENGINEER', 'MINING ENGINEER', 'FLIGHT ENGINEER']\n['SHIP']\n['PICKLE MERCHANT', 'WIFE OF MERCHANT', 'MERCHANT']\n['FARMING']\n['SON/NATIVE', 'SON OF NATIVE', 'NATIVE', 'SON/CITIZEN']\n['GROCERY', 'GROCER']\n['CHINESE OFFICIAL', 'NURSE OF CHINESE OFFICIAL', 'CHINESE MEDICAL DOCTOR', 'CHINESE GROCER', 'CHINESE DOCTOR', 'OFFICIAL']\n['FARM LABORER', 'LABORER', 'FARMER']\n['SON/CITIZEN', 'SON OF CITIZEN', 'SON OF A CITIZEN', \"CITIZEN'S RETURN\", 'SON/NATIVE']\n['HARDWARE']\n['LECTURER']\n['DOCTOR', 'ACTOR', 'COLLECTOR', 'SOLICITOR', 'EDITOR']\n['POULTRY MARKET']\n['SERVANT', 'MERCHANT']\n['NATIVE', 'SON/NATIVE']\n['LAUNDRYK', 'LAUNDRY', 'LAUUNDRY', 'LAUNDRYMAN', 'LAUNDRYAMAN']\n['TEACHER (ASST. EDITOR)']\n['RESTAURANT OWNER', 'RESTAURANT MANAGER', 'RESTAURANT', 'RESTAURANT PROPRIETOR', 'RESTAURANT ASSIST MANAGER']\n['SON OF CITIZEN', 'SON OF A CITIZEN', 'SON/CITIZEN', 'SON OF NATIVE', \"CITIZEN'S RETURN\"]\n['LABORER - LAUNDRY']\n['MINING ENGINEER', 'FLIGHT ENGINEER', 'ENGINEER']\n['SURGEON', 'DENTAL SURGEON']\n['SON OF MERCHANT', 'SON OF A MERCHANT', 'MINOR SON OF A MERCHANT', 'WIFE OF MERCHANT', 'ADOPTED SON OF A MERCHANT', 'SECTION 6 MERCHANT', 'MERCHANT']\n['PAINTER', 'WAITER', 'MINISTER']\n['RETURNING CITIZEN', \"CITIZEN'S RETURN\", 'RETURNING NATIVE']\n['TREASURY DEPT']\n['SON OF NATIVE', 'SON/NATIVE', 'SON OF A CITIZEN', 'SON OF CITIZEN']\n['THEATER MANAGER', 'NEWSPAPER MANAGER', 'RESTAURANT MANAGER']\n['WING YEE YUEN']\n['TRANSLATOR', 'TRANSIT']\n['WIFE OF MERCHANT', 'SON OF MERCHANT', 'SON OF A MERCHANT', 'PICKLE MERCHANT', 'MERCHANT']\n['POST OFFICE']\n['TECHNICIAN', 'ELECTRICAL TECHNICIAN']\n['PAWNSHOP']\n['CIGAR FACTORY', 'CIGAR MAKER']\n['(CHIN HIM YEES)', '(CHIN HIM YEE)']\n['(CHIN HIM YEE)', '(CHIN HIM YEES)']\n['(CHARLEY OI OR LEE SEE OI', 'CHARLEY OI (LEE SEE OI)']\n['CHARLEY OI (LEE SEE OI)', '(CHARLEY OI OR LEE SEE OI']\n['(LEE LAKE)']\n['QUONG SANG WO CO']\n['HIP CHUNG WING']\n['CONSULTING ENGINEER', 'CIVIL ENGINEER', 'ELECTRIC ENGINEER']\n['TEMPORARY VISITOR']\n['CHING CHONG CO']\n['ARTIST']\n['GAMBLER']\n['EDITOR', 'DOCTOR']\n['CHINESE INTERPRETER', 'INTERPRETER', 'INTERPRETER NAVAL ATTACHE']\n['IMMIGRATION SERVICE']\n['RETURNING NATIVE', 'RETURNING CITIZEN']\n['ACTRESS', 'WAITRESS', 'ACTOR']\n['TYPESETTER']\n['MUSEUM COLLECTOR', 'COLLECTOR', 'SALESMAN & COLLECTOR']\n['VALET']\n['ADMITTED AS STUDENT', 'ADMITTED AS MERCHANT', 'MEDICAL STUDENT']\n['ADMIT TRINIDAD MERCHANT', 'ADMITTED AS MERCHANT']\n['ADMITTED AS MERCHANT', 'ADMITTED AS STUDENT', 'ADMIT TRINIDAD MERCHANT']\n['SECTION 6 MERCHANT', 'SON OF A MERCHANT', 'SON OF MERCHANT']\n['DISWASHER', 'DISHWASHER', 'DISHWASHER & WAITER']\n['HOUSEWIFE']\n['WAITRESS', 'ACTRESS', 'WAITER']\n['STUDENT (AGE 10)', 'STUDENT']\n['DAUGHTER OF MERCHANT', 'SON OF A MERCHANT', 'ADOPTED SON OF A MERCHANT']\n['CARPENTER']\n['AVIATRIX']\n['GOVERNMENT OFFICIAL']\n['ELECTRICAL TECHNICIAN', 'ELECTRIC ENGINEER', 'TECHNICIAN']\n['TRANSIT', 'TRANSIENT', 'IN TRANSIT', 'TRANSLATOR']\n['OFFICIAL STATUS', 'OFFICIAL']\n['WELDER']\n[\"U.S. GOV'T EMPLOYEE\"]\n['STORE CLERK']\n['MILITARY OFFICER']\n['BOILER MAKER', 'CIGAR MAKER']\n['NURSE OF CHINESE OFFICIAL', 'CHINESE OFFICIAL']\n['TUTOR']\n['MERCHNAT', 'MERCHANT']\n['METEROLOGIST']\n['LAUUNDRY', 'LAUNDRY', 'LAUNDRYK', 'LAUNDRYMAN', 'LAUNDRYAMAN']\n['BUTLER', 'BUYER']\n['CLERK IN BANK']\n['CHEMIST']\n['DENTAL SURGEON', 'SURGEON']\n['INTERPRETER NAVAL ATTACHE', 'CHINESE INTERPRETER']\n['FLIGHT ENGINEER', 'MINING ENGINEER', 'ENGINEER']\n"
        }
      ],
      "source": [
        "lissy = data['OCUPATION2'].drop_duplicates().values.tolist()\n",
        "for i in lissy[1:]:\n",
        "    similar(data, \"OCUPATION2\", i, min_ratio = 65)"
      ]
    },
    {
      "cell_type": "code",
      "execution_count": 19,
      "metadata": {},
      "outputs": [],
      "source": [
        "def replace(lissy, column = \"OCUPATION2\"):\n",
        "    data[column].replace(lissy[1:],lissy[0], inplace = True)\n",
        "    print(\"done replacing\")"
      ]
    },
    {
      "cell_type": "code",
      "execution_count": 20,
      "metadata": {
        "tags": []
      },
      "outputs": [
        {
          "output_type": "stream",
          "name": "stdout",
          "text": "done replacing\ndone replacing\ndone replacing\ndone replacing\ndone replacing\ndone replacing\ndone replacing\ndone replacing\ndone replacing\ndone replacing\ndone replacing\ndone replacing\ndone replacing\ndone replacing\ndone replacing\ndone replacing\ndone replacing\ndone replacing\ndone replacing\ndone replacing\ndone replacing\ndone replacing\ndone replacing\ndone replacing\ndone replacing\n"
        }
      ],
      "source": [
        "replace(['LAUNDRYMAN', 'LAUNDRYAMAN', 'LAUNDRY', 'LAUNDRYK', 'LAUUNDRY','LABORER - LAUNDRY'])\n",
        "replace(['RESTAURANT WORKER', 'RESTAURANT'])\n",
        "replace(['LAUNDRYMAN', 'LAUNDRYAMAN', 'LAUNDRY', 'LAUNDRYK', 'LAUUNDRY'])\n",
        "replace(['MERCHANT', 'MERCHNAT','MERCHANT (SANG CHANG CO.)','ADMITTED AS MERCHANT','ADMIT TRINIDAD MERCHANT','PICKLE MERCHANT','SECTION 6 MERCHANT'])\n",
        "replace(['LABORER', 'LABOERE', 'FARM LABORER','FARMER'])\n",
        "replace(['RESTAURANT MANAGER', 'RESTAURANT ASSIST MANAGER', 'RESTAURANT OWNER'])\n",
        "replace(['SON OF A MERCHANT', 'SON OF MERCHANT', 'MINOR SON OF A MERCHANT', 'ADOPTED SON OF A MERCHANT'])\n",
        "replace(['IN TRANSIT', 'TRANSIT'])\n",
        "replace(['CASHIER', 'CAHSIER'])\n",
        "replace(['DISHWASHER', 'DISWASHER'])\n",
        "replace([\"CITIZEN\",'RETURNING CITIZEN',\"CITIZEN'S RETURN\",'NATIVE','RETURNING NATIVE'])\n",
        "replace(['RESTAURANT WORKER','RESTUARANT WORKER'])\n",
        "replace(['LAUNDRY PROPRIETOR', 'LAUNDRY PROPRIETER'])\n",
        "replace(['ADOPTED DAUGHTER', 'ADOPTED DAUGHER'])\n",
        "replace(['FIREMAN','#1 FIREMAN'])\n",
        "replace(['BOOKKEEPER & SALESMAN', 'SALESMAN & BOOKKEEPER', 'MANAGER & BOOKKEEPER'])\n",
        "replace([\"DOCTOR\",'CHINESE DOCTOR','CHINESE MEDICAL DOCTOR'])\n",
        "replace(['LIVE POULTRY SALESMAN', 'POULTRY SALESMAN'])\n",
        "replace(['SON OF NATIVE','SON/NATIVE','SON/CITIZEN', 'SON OF CITIZEN', 'SON OF A CITIZEN'])\n",
        "replace(['GROCERY', 'GROCER'])\n",
        "replace(['(CHIN HIM YEES)', '(CHIN HIM YEE)'])\n",
        "replace(['(CHARLEY OI OR LEE SEE OI', 'CHARLEY OI (LEE SEE OI)'])\n",
        "replace([\"STUDENT\",\"STUDENT (AGE 10)\",\"MEDICAL STUDENT\",\"ADMITTED AS STUDENT\"])\n",
        "replace([\"COOK\",\"HEAD COOK\"])\n",
        "replace([\"TEACHER\",\"TEACHER (ASST. EDITOR)\"])"
      ]
    },
    {
      "cell_type": "code",
      "execution_count": 21,
      "metadata": {
        "tags": []
      },
      "outputs": [
        {
          "output_type": "stream",
          "name": "stdout",
          "text": "['LAUNDRYMAN', 'SEAMAN & LAUNDRYMAN']\n['WAITER', 'PAINTER', 'HEAD WAITER', 'COOK & WAITER', 'WAITRESS']\n['GROCERY']\n['MERCHANT', 'SERVANT', 'WIFE OF MERCHANT']\n['STUDENT', 'WAITER & STUDENT']\n['BOOKKEEPER', 'CASHIER & BOOKKEEPER', 'BOOKKEEPER & SALESMAN', 'BOOKKEEPER & COLLECTER']\n['CASHIER']\n['BOOKKEEPER', 'ASSISTANT MANAGER']\n['SALESMAN', 'SALESMAN & BUYER', 'SEAMAN']\n['ASSISTANT MANAGER']\n['RESTAURANT MANAGER', 'PRESIDENT & MANAGER', 'RESTAURANT PROPRIETOR']\n['GENERAL HELPER', 'GENERAL MANAGER']\n['BOOKKEEPER & COLLECTER', 'CASHIER & BOOKKEEPER']\n['SALESMAN & BUYER', 'SALESMAN & COLLECTOR', 'SALESMAN', 'LIVE POULTRY SALESMAN']\n['COOK']\n['TEACHER']\n['ASSISTANT MANAGER']\n['DISHWASHER', 'DISHWASHER & WAITER']\n[]\n['ASSISTANT MANAGER']\n['RESTAURANT WORKER', 'RESTAURATEUR']\n['LAUNDRY PROPRIETOR']\n['INTERPRETER', 'CHINESE INTERPRETER']\n['LAUNDRY PROPRIETOR']\n['MANAGER']\n['BOOKKEEPER']\n['RESTAURANT MANAGER', 'PRESIDENT & MANAGER']\n['GENERAL HELPER']\n[]\n['RESTAURANT PROPRIETOR']\n['LAUNDRY PROPRIETOR']\n['CHINESE GROCER', 'CHINESE INTERPRETER']\n[]\n['CIGAR MAKER']\n['PHYSICIAN']\n['COLLECTOR', 'LECTURER']\n[]\n[]\n['COLLECTOR', 'MUSEUM COLLECTOR', 'SALESMAN & COLLECTOR', 'DOCTOR', 'SOLICITOR']\n['SALESMAN & COLLECTOR', 'COLLECTOR', 'MUSEUM COLLECTOR']\n['STOWAWAY']\n['COOK & WAITER', 'WAITER']\n['LABORER']\n['EDITOR', 'DOCTOR']\n['RESTAURATEUR', 'RESTAURANT WORKER', 'RESTAURANT MANAGER', 'RESTAURANT PROPRIETOR']\n[]\n['LAUNDRYMAN']\n['CIGAR FACTORY', 'CIGAR MAKER']\n['SEAMAN', 'SALESMAN']\n[]\n[]\n[]\n"
        }
      ],
      "source": [
        "lissy = data['OCUPATION3'].drop_duplicates().values.tolist()\n",
        "for i in lissy[1:]:\n",
        "    similar(data, \"OCUPATION2\", i, min_ratio = 65)"
      ]
    },
    {
      "cell_type": "code",
      "execution_count": 22,
      "metadata": {
        "tags": []
      },
      "outputs": [
        {
          "output_type": "stream",
          "name": "stdout",
          "text": "done replacing\ndone replacing\ndone replacing\ndone replacing\ndone replacing\n"
        }
      ],
      "source": [
        "replace([\"LAUNDRYMAN\",\"LAUNDRY\",\"LAUNDRY COLLECTOR\"],\"OCUPATION3\")\n",
        "replace(['WAITER', 'PAINTER', 'HEAD WAITER', 'COOK & WAITER', 'WAITRESS'],\"OCUPATION3\")\n",
        "replace(['INTERPRETER', 'CHINESE INTERPRETER'],\"OCUPATION3\")\n",
        "replace(['COLLECTOR', 'MUSEUM COLLECTOR'],\"OCUPATION3\")\n",
        "replace(['LAUNDRY PROPRIETOR','LAUNDRY PROPRIETER'],\"OCUPATION3\")"
      ]
    },
    {
      "cell_type": "code",
      "execution_count": 23,
      "metadata": {},
      "outputs": [
        {
          "output_type": "execute_result",
          "data": {
            "text/plain": "         occupation1             Unnamed: 1  Unnamed: 2   occupation2  \\\n0                NaN                    NaN         NaN       LABORER   \n1             SEAMAN  BONDED TRANSIT/ ENTRY         OWN    BOOKKEEPER   \n2            LABORER                LABORER         OWN  RESTAURATEUR   \n3  SON OF A MERCHANT               MERCHANT  AFFILIATED    LAUNDRYMAN   \n4         LAUNDRYMAN                LABORER         OWN      MERCHANT   \n\n  Unnamed: 4 Unnamed: 5  occupation3 Unnamed: 7 Unnamed: 8  \n0    LABORER        OWN  LAUNDRYMAN     LABORER        OWN  \n1    LABORER        OWN       WAITER    LABORER        OWN  \n2   MERCHANT        OWN      GROCER    MERCHANT        OWN  \n3    LABORER        OWN    MERCHANT    MERCHANT        OWN  \n4   MERCHANT        OWN     STUDENT     STUDENT        OWN  ",
            "text/html": "<div>\n<style scoped>\n    .dataframe tbody tr th:only-of-type {\n        vertical-align: middle;\n    }\n\n    .dataframe tbody tr th {\n        vertical-align: top;\n    }\n\n    .dataframe thead th {\n        text-align: right;\n    }\n</style>\n<table border=\"1\" class=\"dataframe\">\n  <thead>\n    <tr style=\"text-align: right;\">\n      <th></th>\n      <th>occupation1</th>\n      <th>Unnamed: 1</th>\n      <th>Unnamed: 2</th>\n      <th>occupation2</th>\n      <th>Unnamed: 4</th>\n      <th>Unnamed: 5</th>\n      <th>occupation3</th>\n      <th>Unnamed: 7</th>\n      <th>Unnamed: 8</th>\n    </tr>\n  </thead>\n  <tbody>\n    <tr>\n      <th>0</th>\n      <td>NaN</td>\n      <td>NaN</td>\n      <td>NaN</td>\n      <td>LABORER</td>\n      <td>LABORER</td>\n      <td>OWN</td>\n      <td>LAUNDRYMAN</td>\n      <td>LABORER</td>\n      <td>OWN</td>\n    </tr>\n    <tr>\n      <th>1</th>\n      <td>SEAMAN</td>\n      <td>BONDED TRANSIT/ ENTRY</td>\n      <td>OWN</td>\n      <td>BOOKKEEPER</td>\n      <td>LABORER</td>\n      <td>OWN</td>\n      <td>WAITER</td>\n      <td>LABORER</td>\n      <td>OWN</td>\n    </tr>\n    <tr>\n      <th>2</th>\n      <td>LABORER</td>\n      <td>LABORER</td>\n      <td>OWN</td>\n      <td>RESTAURATEUR</td>\n      <td>MERCHANT</td>\n      <td>OWN</td>\n      <td>GROCER</td>\n      <td>MERCHANT</td>\n      <td>OWN</td>\n    </tr>\n    <tr>\n      <th>3</th>\n      <td>SON OF A MERCHANT</td>\n      <td>MERCHANT</td>\n      <td>AFFILIATED</td>\n      <td>LAUNDRYMAN</td>\n      <td>LABORER</td>\n      <td>OWN</td>\n      <td>MERCHANT</td>\n      <td>MERCHANT</td>\n      <td>OWN</td>\n    </tr>\n    <tr>\n      <th>4</th>\n      <td>LAUNDRYMAN</td>\n      <td>LABORER</td>\n      <td>OWN</td>\n      <td>MERCHANT</td>\n      <td>MERCHANT</td>\n      <td>OWN</td>\n      <td>STUDENT</td>\n      <td>STUDENT</td>\n      <td>OWN</td>\n    </tr>\n  </tbody>\n</table>\n</div>"
          },
          "metadata": {},
          "execution_count": 23
        }
      ],
      "source": [
        "legalStatus = pd.read_csv(\"LegalStatusUpdated.csv\")\n",
        "legalStatus.head()"
      ]
    },
    {
      "cell_type": "code",
      "execution_count": 24,
      "metadata": {},
      "outputs": [],
      "source": [
        "lissy = legalStatus['occupation1'].drop_duplicates().values.tolist()"
      ]
    },
    {
      "cell_type": "code",
      "execution_count": 45,
      "metadata": {
        "tags": []
      },
      "outputs": [
        {
          "output_type": "stream",
          "name": "stdout",
          "text": "[nan, 'SEAMAN', 'LABORER', 'SON OF A MERCHANT', 'LAUNDRYMAN', 'CASHIER', 'STUDENT', 'SON OF A NATIVE', 'MERCHANT', 'RESTAURANT OWNER', 'PROFESSOR OF ART', 'DAUGHTER OF A NATIVE', 'CLERK', 'WAITER', 'GROCERY', 'FARMER', 'WIFE OF A MERCHANT', 'SON OF A CITIZEN', 'YOUTH', 'DOMESTIC WORKER', 'TRAVELER', 'SALESMAN', 'DRUGGIST', 'CONFIDENTIAL AGENT', 'ACTOR', 'BOOKKEEPER', 'DIPLOMAT', 'COOK', 'SALSEMAN', 'RESTAURANT WORKER', 'WIFE OF A NATIVE', 'DAUGHTER OF A MERCHANT', 'DOMESTIC WORKER*', 'BUYER', 'ENGINEER', 'JOURNALIST', 'MINOR SON', 'MANAGER', 'ASSISTANT BUYER', 'HEAD BUYER', 'WIFE OF A SON OF A NATIVE', 'CIGAR MAKER', 'ASSISTANT MANAGER', 'WIFE OF A STUDENT', 'WIFE OF A CITIZEN', 'RETURNING CITIZEN', 'NATIVE', 'GOVERNMENT OFFICIAL', 'INSPECTOR/BURGLAR ALARMS', 'SECRETARY', 'CHINESE ACTOR', 'TAILOR', 'CHINESE DIPLOMAT', 'STOWAWAY', 'DAUGHTER OF A CITIZEN', 'HEAD WAITER', 'LAUNDRY PROPRIETOR', 'TOURIST', 'GOVERNMENT DELEGATE*', 'VICE PRESIDENT', 'PRESIDENT', 'MUSICIAN', 'EXPORTER & IMPORTER', \"SHIP'S COOK & STEWARD\", 'ACTRESS', 'TEACHER', 'MAGICIAN', 'MINOR', ' BOOKSTORE PACKER', ' SHIRT MAKER', ' BUTCHER SHOP OPERATOR', ' ASSISTANT', 'INTERPRETER', 'MEDICAL DOCTOR', 'BANK BROKER', 'CHINESE PAINTER', 'CHINESE PHYSICIAN', 'COMMERCIAL AGENT', 'STORE PROPRIETOR', 'DEALER', 'PEDDLER', 'BARBER', 'FURNITURE DEALER', 'CANNERY WORKER', 'WIFE OF A DIPLOMAT', 'WIFE OF A LABORER', 'STEWARD', 'RICE SALESMAN', 'RICE DEALER', 'FORTUNE TELLER', 'RAILROAD AGENT', 'MISSIONARY', 'MANUFACTURER OF BEAN CAKE', 'LUMBER YARD WORKER', 'WIFE OF AN INTERPRETER', 'CHINESE MINISTER', 'ATTACHE TO THE LEGATION', 'TEACHER & STUDENT', 'SERVANT', 'NEWSPAPER MANAGER', 'CHINESE GOV. OFFICIAL', 'CHINESE OFFICIAL', 'CLERGYMAN', 'CHILD OF A DIPLOMAT', 'MAID OF A DIPLOMAT', 'AID TO CHINESE CONSUL', 'OFFICIAL SERVANT', 'EVANGELIST', 'SECRETARY OF CONSUL', 'TRANSIENT', 'GOVERNMENT EMPLOYEE', 'CHINESE MASONIC ORGANIZER', 'WIFE OF A MISSIONARY', 'DAUGHTER OF A MISSIONARY', 'SON OF A DOMESTIC WORKER', 'ACTOR & ARTIST', 'WIFE OF AN ACTOR', 'PHYSICIAN', 'CHINESE INTERPRETER', 'WIFE', 'RESTAURANTEUR', 'CIGAR MANUFACTURER-COLFAX', 'MACHINIST', 'U.S. NAVY', 'ACROBATIC ACTOR', 'VAUDEVILLE ARTIST', 'PREACHER', 'ELECT. ENGINEER', 'SON OF LEW LUNG', 'EDITOR', 'SON OF WONG HONG HE', 'GRANDSON OF A CITIZEN', 'TRUCKING', 'CONSUL GENERAL', 'SON OF A DOCTOR', 'RESEARCH ASST.MINING ENGR', 'OFFICIAL', 'WIFE OF TEACHER', 'MERCHANT/TRAVELER', 'RESTUARANT OWNER', 'WIFE OF CLERGYMAN', 'TRANSIENT MERCHANT', 'TRAVELER/TRANSIT', 'RELATIVE OF MERCHANT', 'POST MASTER', 'DAUGHTER', 'SON OF TEACHER', 'STUDENT/TRANSIENT', 'MONOR SON OF MERCHANT', 'EXHIBITOR', 'DOCTOR', 'WIFE OF DOCTOR', 'SMUGGLER', 'INFANT', 'HOUSEWIFE', 'WIFE/SERVICEMAN', 'GOVERNMENT INTERPRETER', 'COFFEE SHOP', 'BAKERY', 'SEAMAN (DESERTER', 'NOODLE FACTORY', 'THEATER TROUPE', 'RELIGIOUS', 'YMCA SECRETARY', 'ACCOUNTANT', 'SALVATION ARMY', 'BOARD OF EDUCATION', 'CIVIL ENGINEER', 'NUN', 'ILLEGAL', 'ALLEGED UNLAWFUL RESIDENT', 'STUDENT & TRAVELER', 'THEATER MANAGER', 'TEACHER-MISSIONARY', 'PASTRY MAKER', 'NURSE', \"SON OF GOV'T OFFICIAL\", 'BANK CLERK', 'SERVANT OF DIPLOMAT', 'PRODUCE MARKER', 'ROOMING HUSE OPERATOR', 'TEMP. INTERPRETER FOR -', 'POSITION FOR INTERPRETER', 'DENTIST', 'MAIL CARRIER', 'CIGAR SALESMAN', \"ACTOR'S GROUP\", 'DANCER', 'MAID', 'VISITOR', 'COMMERCIAL ARTIST', 'THEATRE BUSINESS', 'INSURANCE', 'INSURANCE BROKER', 'SON OF CHINESE OFFICIAL', 'REFUGEE', 'SERVANT OF OFFICIAL', 'WIFE OF PROFESSOR', 'BROTHER OF NATIVE', 'REPORTER', 'HOMELESS', 'DRAFTSMAN', 'SOCIAL WORKER', 'DISHWASHER', 'CAMERAMAN', 'ARTIST', \"WIFE OF GOV'T OFFICIAL\", 'CARPENTER', 'DAUGHTER OF OFFICIAL', 'PROFESSOR', 'MINISTER', 'ACTING TROUPE', 'CITIZEN', \"IMMIGRANT'S RETURN\", 'TRANSIENT OFFICIAL', \"OFFICIAL'S STAFF\", 'NEWSPAPER MAN', 'TEMPORARY VISITOR', 'THEATRICAL GROUP', 'THEATRICAL PERFORMER', 'ECONOMICAL CONSUL', 'SEAMSTRESS', 'SCHOOL PRINCIPAL', \"CHINESE GOV'T RR ENGINEER\", 'DOMESTIC- NURSE MAID', 'FOUNDATION EXECUTIVE', 'WIFE OF OFFICIAL', 'ACOTR', 'ELECTRIC ENGINEER', 'WING AND WING TROUPE', 'ACROBAT', 'WIFE OF PHYSICIAN', 'SON OF VISITING ACROBAT', 'COURT INTERPRETER', 'PRINTER', 'U.S. GOVERNMENT', 'SON OF OFFICIAL', 'MECHANICAL ENGINEER', 'SON OF PREACHER', 'STENOGRAPHER', 'PAINT MFG', 'DAUGHTER OF FEMALE NATIVE', 'NO INDICATION']\n"
        }
      ],
      "source": [
        "print(lissy)"
      ]
    },
    {
      "cell_type": "code",
      "execution_count": 25,
      "metadata": {
        "tags": []
      },
      "outputs": [],
      "source": [
        "for i in range(len(lissy[1:])):\n",
        "    lissy[i+1] = lissy[i+1].strip()"
      ]
    },
    {
      "cell_type": "code",
      "execution_count": 26,
      "metadata": {
        "tags": []
      },
      "outputs": [
        {
          "output_type": "stream",
          "name": "stdout",
          "text": "done\n"
        }
      ],
      "source": [
        "legalStatus_1 = {}\n",
        "for index, row in legalStatus.iterrows():\n",
        "    temp = [row[\"Unnamed: 1\"],row[\"Unnamed: 2\"]]\n",
        "    if str(row[\"occupation1\"])!= \"nan\":\n",
        "        legalStatus_1[row[\"occupation1\"].strip()] = temp\n",
        "\n",
        "for index, row in legalStatus.iterrows():\n",
        "    temp = [row[\"Unnamed: 4\"],row[\"Unnamed: 5\"]]\n",
        "    if str(row[\"occupation2\"])!= \"nan\":\n",
        "        legalStatus_1[row[\"occupation2\"].strip()] = temp\n",
        "\n",
        "for index, row in legalStatus.iterrows():\n",
        "    temp = [row[\"Unnamed: 7\"],row[\"Unnamed: 8\"]]\n",
        "    if str(row[\"occupation3\"])!= \"nan\":\n",
        "        legalStatus_1[row[\"occupation3\"].strip()] = temp\n",
        "print('done')"
      ]
    },
    {
      "cell_type": "code",
      "execution_count": 27,
      "metadata": {
        "tags": []
      },
      "outputs": [
        {
          "output_type": "stream",
          "name": "stdout",
          "text": "RETURNING MERCHANT\nMINOR SON OF A CITIZEN\nMINOR SON OF A CITIZEN\nMINOR SON OF A CITIZEN\n"
        }
      ],
      "source": [
        "insertLegalStatus = []\n",
        "insertStatusInfo = []\n",
        "for index, row in data.iterrows():\n",
        "    if str(row[\"OCUPATION1\"])!= \"nan\":\n",
        "        try:\n",
        "            insertLegalStatus.append(legalStatus_1[row[\"OCUPATION1\"]][0])\n",
        "            insertStatusInfo.append(legalStatus_1[row[\"OCUPATION1\"]][1])\n",
        "        except:\n",
        "            print(row[\"OCUPATION1\"])\n",
        "            insertLegalStatus.append(np.nan)\n",
        "            insertStatusInfo.append(np.nan)\n",
        "    else:\n",
        "            insertLegalStatus.append(np.nan)\n",
        "            insertStatusInfo.append(np.nan)\n",
        "index = data.columns.get_loc(\"OCUPATION1\")\n",
        "ind_1 = index + 1\n",
        "ind_2 = index + 2\n",
        "data.insert(ind_1,'LEGALSTATUS1',insertLegalStatus)\n",
        "data.insert(ind_2,'STATUSINFO1',insertStatusInfo)"
      ]
    },
    {
      "cell_type": "code",
      "execution_count": 28,
      "metadata": {},
      "outputs": [],
      "source": [
        "insertLegalStatus = []\n",
        "insertStatusInfo = []\n",
        "for index, row in data.iterrows():\n",
        "    if str(row[\"OCUPATION2\"])!= \"nan\":\n",
        "        try:\n",
        "            insertLegalStatus.append(legalStatus_1[row[\"OCUPATION2\"]][0])\n",
        "            insertStatusInfo.append(legalStatus_1[row[\"OCUPATION2\"]][1])\n",
        "        except:\n",
        "            print(row[\"OCUPATION2\"])\n",
        "            insertLegalStatus.append(np.nan)\n",
        "            insertStatusInfo.append(np.nan)\n",
        "    else:\n",
        "            insertLegalStatus.append(np.nan)\n",
        "            insertStatusInfo.append(np.nan)\n",
        "\n",
        "index = data.columns.get_loc(\"OCUPATION2\")\n",
        "ind_1 = index + 1\n",
        "ind_2 = index + 2\n",
        "data.insert(ind_1,'LEGALSTATUS2',insertLegalStatus)\n",
        "data.insert(ind_2,'STATUSINFO2',insertStatusInfo)"
      ]
    },
    {
      "cell_type": "code",
      "execution_count": 29,
      "metadata": {
        "tags": []
      },
      "outputs": [
        {
          "output_type": "stream",
          "name": "stdout",
          "text": "CHEF\nVEGETAB STORE PROPRIETOR\n"
        }
      ],
      "source": [
        "insertLegalStatus = []\n",
        "insertStatusInfo = []\n",
        "for index, row in data.iterrows():\n",
        "    if str(row[\"OCUPATION3\"])!= \"nan\":\n",
        "        try:\n",
        "            insertLegalStatus.append(legalStatus_1[row[\"OCUPATION3\"]][0])\n",
        "            insertStatusInfo.append(legalStatus_1[row[\"OCUPATION3\"]][1])\n",
        "        except:\n",
        "            print(row[\"OCUPATION3\"])\n",
        "            insertLegalStatus.append(np.nan)\n",
        "            insertStatusInfo.append(np.nan)\n",
        "    else:\n",
        "            insertLegalStatus.append(np.nan)\n",
        "            insertStatusInfo.append(np.nan)\n",
        "\n",
        "index = data.columns.get_loc(\"OCUPATION3\")\n",
        "ind_1 = index + 1\n",
        "ind_2 = index + 2\n",
        "data.insert(ind_1,'LEGALSTATUS3',insertLegalStatus)\n",
        "data.insert(ind_2,'STATUSINFO3',insertStatusInfo)"
      ]
    },
    {
      "cell_type": "code",
      "execution_count": 30,
      "metadata": {},
      "outputs": [
        {
          "output_type": "execute_result",
          "data": {
            "text/plain": "  DONE Y/N NO FORM 431        DATE  Screened  BOX  CASENO1  CASENO2    NAME1  \\\n0      NaN         NaN         NaN     False    1      5.0      3.0     CHIN   \n1      NaN           X  2020.03.18     False    1      5.0      4.0      HOM   \n2      NaN         NaN         NaN     False    1      5.0      9.0  WILLIAM   \n3      NaN         NaN         NaN     False    1      5.0     10.0      LEE   \n4      NaN         NaN         NaN     False    1      5.0     19.0      YEE   \n\n  NAME2 NAME3 ALIAS1 ALIAS2 ALIAS3 CHINESE1 CHINESE2  CHINESE3  CHINESE4 SEX  \\\n0   GOK    PO   CHIN   KUNG   PACK      NaN      NaN       NaN       NaN   M   \n1  CHEE   NaN   DONG     AH   CHEE      NaN      NaN       NaN       NaN   M   \n2     K  WONG   WONG   KING   SING      NaN      NaN       NaN       NaN   M   \n3   DEN   NaN    NaN    NaN    NaN      NaN      NaN       NaN       NaN   M   \n4  HING   NaN     YU    YUK    YIN      NaN      NaN       NaN       NaN   M   \n\n            PORT     BIRTHPLACE HOMETOWN ORIGINALOCU1 OCUPATION1  \\\n0            NaN          CHINA      NaN          NaN        NaN   \n1   NEW YORK, NY          CHINA      NaN       SEAMAN     SEAMAN   \n2  NIAGARA FALLS          CHINA      NaN      LABORER    LABORER   \n3            NaN          CHINA      NaN      LABORER    LABORER   \n4            NaN  SAN FRANCISCO      NaN          NaN        NaN   \n\n            LEGALSTATUS1 STATUSINFO1        STREET1          CITY1 STATE1  \\\n0                    NaN         NaN  323 PA AVE,NW     WASHINGTON     DC   \n1  BONDED TRANSIT/ ENTRY         OWN            NaN            NaN    NaN   \n2                LABORER         OWN            NaN  NIAGARA FALLS     NY   \n3                LABORER         OWN            NaN      WATERTOWN     NY   \n4                    NaN         NaN            NaN        DETROIT     MI   \n\n  SPONSOR   WIFE  KIDS  PICTURE  INTEROG CASEDESCR PORT2  SPONSADDR COMMENTS  \\\n0     NaN  False   0.0    False    False         D   NaN        NaN      NaN   \n1     NaN  False   0.0    False    False         D   NaN        NaN      NaN   \n2     NaN  False   0.0    False    False         D   NaN        NaN      NaN   \n3     NaN  False   0.0    False    False         D   NaN        NaN      NaN   \n4     NaN  False   0.0    False    False         D   NaN        NaN      NaN   \n\n    AGE   DOCDATE THIRD1 THIRD2 THIRD3 BIRTHDATE ENTRYDATE ENTRYDATE2  \\\n0   0.0  19211922    NaN    NaN    NaN       NaN      1892        NaN   \n1  28.0  19201922    HOM    SEE  CHUCK       NaN      1920        NaN   \n2   0.0  19211921    NaN    NaN    NaN       NaN      1921        NaN   \n3   0.0  19211921    NaN    NaN    NaN       NaN       NaN        NaN   \n4   0.0  19211922    YEE   YUCK    YOU       NaN       NaN        NaN   \n\n  ORIGINALOCU2 OCUPATION2 LEGALSTATUS2 STATUSINFO2 ORIGINALOCU3 OCUPATION3  \\\n0          NaN        NaN          NaN         NaN          NaN        NaN   \n1          NaN        NaN          NaN         NaN          NaN        NaN   \n2          NaN        NaN          NaN         NaN          NaN        NaN   \n3          NaN        NaN          NaN         NaN          NaN        NaN   \n4          NaN        NaN          NaN         NaN          NaN        NaN   \n\n  LEGALSTATUS3 STATUSINFO3 STREET2          CITY2 STATE2 STREET3 CITY3 STATE3  \\\n0          NaN         NaN     NaN            NaN    NaN     NaN   NaN    NaN   \n1          NaN         NaN     NaN            NaN    NaN     NaN   NaN    NaN   \n2          NaN         NaN     NaN            NaN    NaN     NaN   NaN    NaN   \n3          NaN         NaN     NaN            NaN    NaN     NaN   NaN    NaN   \n4          NaN         NaN     NaN  SAN FRANCISCO     CA     NaN   NaN    NaN   \n\n  MEMO2  \n0   NaN  \n1   NaN  \n2   NaN  \n3   NaN  \n4   NaN  ",
            "text/html": "<div>\n<style scoped>\n    .dataframe tbody tr th:only-of-type {\n        vertical-align: middle;\n    }\n\n    .dataframe tbody tr th {\n        vertical-align: top;\n    }\n\n    .dataframe thead th {\n        text-align: right;\n    }\n</style>\n<table border=\"1\" class=\"dataframe\">\n  <thead>\n    <tr style=\"text-align: right;\">\n      <th></th>\n      <th>DONE Y/N</th>\n      <th>NO FORM 431</th>\n      <th>DATE</th>\n      <th>Screened</th>\n      <th>BOX</th>\n      <th>CASENO1</th>\n      <th>CASENO2</th>\n      <th>NAME1</th>\n      <th>NAME2</th>\n      <th>NAME3</th>\n      <th>ALIAS1</th>\n      <th>ALIAS2</th>\n      <th>ALIAS3</th>\n      <th>CHINESE1</th>\n      <th>CHINESE2</th>\n      <th>CHINESE3</th>\n      <th>CHINESE4</th>\n      <th>SEX</th>\n      <th>PORT</th>\n      <th>BIRTHPLACE</th>\n      <th>HOMETOWN</th>\n      <th>ORIGINALOCU1</th>\n      <th>OCUPATION1</th>\n      <th>LEGALSTATUS1</th>\n      <th>STATUSINFO1</th>\n      <th>STREET1</th>\n      <th>CITY1</th>\n      <th>STATE1</th>\n      <th>SPONSOR</th>\n      <th>WIFE</th>\n      <th>KIDS</th>\n      <th>PICTURE</th>\n      <th>INTEROG</th>\n      <th>CASEDESCR</th>\n      <th>PORT2</th>\n      <th>SPONSADDR</th>\n      <th>COMMENTS</th>\n      <th>AGE</th>\n      <th>DOCDATE</th>\n      <th>THIRD1</th>\n      <th>THIRD2</th>\n      <th>THIRD3</th>\n      <th>BIRTHDATE</th>\n      <th>ENTRYDATE</th>\n      <th>ENTRYDATE2</th>\n      <th>ORIGINALOCU2</th>\n      <th>OCUPATION2</th>\n      <th>LEGALSTATUS2</th>\n      <th>STATUSINFO2</th>\n      <th>ORIGINALOCU3</th>\n      <th>OCUPATION3</th>\n      <th>LEGALSTATUS3</th>\n      <th>STATUSINFO3</th>\n      <th>STREET2</th>\n      <th>CITY2</th>\n      <th>STATE2</th>\n      <th>STREET3</th>\n      <th>CITY3</th>\n      <th>STATE3</th>\n      <th>MEMO2</th>\n    </tr>\n  </thead>\n  <tbody>\n    <tr>\n      <th>0</th>\n      <td>NaN</td>\n      <td>NaN</td>\n      <td>NaN</td>\n      <td>False</td>\n      <td>1</td>\n      <td>5.0</td>\n      <td>3.0</td>\n      <td>CHIN</td>\n      <td>GOK</td>\n      <td>PO</td>\n      <td>CHIN</td>\n      <td>KUNG</td>\n      <td>PACK</td>\n      <td>NaN</td>\n      <td>NaN</td>\n      <td>NaN</td>\n      <td>NaN</td>\n      <td>M</td>\n      <td>NaN</td>\n      <td>CHINA</td>\n      <td>NaN</td>\n      <td>NaN</td>\n      <td>NaN</td>\n      <td>NaN</td>\n      <td>NaN</td>\n      <td>323 PA AVE,NW</td>\n      <td>WASHINGTON</td>\n      <td>DC</td>\n      <td>NaN</td>\n      <td>False</td>\n      <td>0.0</td>\n      <td>False</td>\n      <td>False</td>\n      <td>D</td>\n      <td>NaN</td>\n      <td>NaN</td>\n      <td>NaN</td>\n      <td>0.0</td>\n      <td>19211922</td>\n      <td>NaN</td>\n      <td>NaN</td>\n      <td>NaN</td>\n      <td>NaN</td>\n      <td>1892</td>\n      <td>NaN</td>\n      <td>NaN</td>\n      <td>NaN</td>\n      <td>NaN</td>\n      <td>NaN</td>\n      <td>NaN</td>\n      <td>NaN</td>\n      <td>NaN</td>\n      <td>NaN</td>\n      <td>NaN</td>\n      <td>NaN</td>\n      <td>NaN</td>\n      <td>NaN</td>\n      <td>NaN</td>\n      <td>NaN</td>\n      <td>NaN</td>\n    </tr>\n    <tr>\n      <th>1</th>\n      <td>NaN</td>\n      <td>X</td>\n      <td>2020.03.18</td>\n      <td>False</td>\n      <td>1</td>\n      <td>5.0</td>\n      <td>4.0</td>\n      <td>HOM</td>\n      <td>CHEE</td>\n      <td>NaN</td>\n      <td>DONG</td>\n      <td>AH</td>\n      <td>CHEE</td>\n      <td>NaN</td>\n      <td>NaN</td>\n      <td>NaN</td>\n      <td>NaN</td>\n      <td>M</td>\n      <td>NEW YORK, NY</td>\n      <td>CHINA</td>\n      <td>NaN</td>\n      <td>SEAMAN</td>\n      <td>SEAMAN</td>\n      <td>BONDED TRANSIT/ ENTRY</td>\n      <td>OWN</td>\n      <td>NaN</td>\n      <td>NaN</td>\n      <td>NaN</td>\n      <td>NaN</td>\n      <td>False</td>\n      <td>0.0</td>\n      <td>False</td>\n      <td>False</td>\n      <td>D</td>\n      <td>NaN</td>\n      <td>NaN</td>\n      <td>NaN</td>\n      <td>28.0</td>\n      <td>19201922</td>\n      <td>HOM</td>\n      <td>SEE</td>\n      <td>CHUCK</td>\n      <td>NaN</td>\n      <td>1920</td>\n      <td>NaN</td>\n      <td>NaN</td>\n      <td>NaN</td>\n      <td>NaN</td>\n      <td>NaN</td>\n      <td>NaN</td>\n      <td>NaN</td>\n      <td>NaN</td>\n      <td>NaN</td>\n      <td>NaN</td>\n      <td>NaN</td>\n      <td>NaN</td>\n      <td>NaN</td>\n      <td>NaN</td>\n      <td>NaN</td>\n      <td>NaN</td>\n    </tr>\n    <tr>\n      <th>2</th>\n      <td>NaN</td>\n      <td>NaN</td>\n      <td>NaN</td>\n      <td>False</td>\n      <td>1</td>\n      <td>5.0</td>\n      <td>9.0</td>\n      <td>WILLIAM</td>\n      <td>K</td>\n      <td>WONG</td>\n      <td>WONG</td>\n      <td>KING</td>\n      <td>SING</td>\n      <td>NaN</td>\n      <td>NaN</td>\n      <td>NaN</td>\n      <td>NaN</td>\n      <td>M</td>\n      <td>NIAGARA FALLS</td>\n      <td>CHINA</td>\n      <td>NaN</td>\n      <td>LABORER</td>\n      <td>LABORER</td>\n      <td>LABORER</td>\n      <td>OWN</td>\n      <td>NaN</td>\n      <td>NIAGARA FALLS</td>\n      <td>NY</td>\n      <td>NaN</td>\n      <td>False</td>\n      <td>0.0</td>\n      <td>False</td>\n      <td>False</td>\n      <td>D</td>\n      <td>NaN</td>\n      <td>NaN</td>\n      <td>NaN</td>\n      <td>0.0</td>\n      <td>19211921</td>\n      <td>NaN</td>\n      <td>NaN</td>\n      <td>NaN</td>\n      <td>NaN</td>\n      <td>1921</td>\n      <td>NaN</td>\n      <td>NaN</td>\n      <td>NaN</td>\n      <td>NaN</td>\n      <td>NaN</td>\n      <td>NaN</td>\n      <td>NaN</td>\n      <td>NaN</td>\n      <td>NaN</td>\n      <td>NaN</td>\n      <td>NaN</td>\n      <td>NaN</td>\n      <td>NaN</td>\n      <td>NaN</td>\n      <td>NaN</td>\n      <td>NaN</td>\n    </tr>\n    <tr>\n      <th>3</th>\n      <td>NaN</td>\n      <td>NaN</td>\n      <td>NaN</td>\n      <td>False</td>\n      <td>1</td>\n      <td>5.0</td>\n      <td>10.0</td>\n      <td>LEE</td>\n      <td>DEN</td>\n      <td>NaN</td>\n      <td>NaN</td>\n      <td>NaN</td>\n      <td>NaN</td>\n      <td>NaN</td>\n      <td>NaN</td>\n      <td>NaN</td>\n      <td>NaN</td>\n      <td>M</td>\n      <td>NaN</td>\n      <td>CHINA</td>\n      <td>NaN</td>\n      <td>LABORER</td>\n      <td>LABORER</td>\n      <td>LABORER</td>\n      <td>OWN</td>\n      <td>NaN</td>\n      <td>WATERTOWN</td>\n      <td>NY</td>\n      <td>NaN</td>\n      <td>False</td>\n      <td>0.0</td>\n      <td>False</td>\n      <td>False</td>\n      <td>D</td>\n      <td>NaN</td>\n      <td>NaN</td>\n      <td>NaN</td>\n      <td>0.0</td>\n      <td>19211921</td>\n      <td>NaN</td>\n      <td>NaN</td>\n      <td>NaN</td>\n      <td>NaN</td>\n      <td>NaN</td>\n      <td>NaN</td>\n      <td>NaN</td>\n      <td>NaN</td>\n      <td>NaN</td>\n      <td>NaN</td>\n      <td>NaN</td>\n      <td>NaN</td>\n      <td>NaN</td>\n      <td>NaN</td>\n      <td>NaN</td>\n      <td>NaN</td>\n      <td>NaN</td>\n      <td>NaN</td>\n      <td>NaN</td>\n      <td>NaN</td>\n      <td>NaN</td>\n    </tr>\n    <tr>\n      <th>4</th>\n      <td>NaN</td>\n      <td>NaN</td>\n      <td>NaN</td>\n      <td>False</td>\n      <td>1</td>\n      <td>5.0</td>\n      <td>19.0</td>\n      <td>YEE</td>\n      <td>HING</td>\n      <td>NaN</td>\n      <td>YU</td>\n      <td>YUK</td>\n      <td>YIN</td>\n      <td>NaN</td>\n      <td>NaN</td>\n      <td>NaN</td>\n      <td>NaN</td>\n      <td>M</td>\n      <td>NaN</td>\n      <td>SAN FRANCISCO</td>\n      <td>NaN</td>\n      <td>NaN</td>\n      <td>NaN</td>\n      <td>NaN</td>\n      <td>NaN</td>\n      <td>NaN</td>\n      <td>DETROIT</td>\n      <td>MI</td>\n      <td>NaN</td>\n      <td>False</td>\n      <td>0.0</td>\n      <td>False</td>\n      <td>False</td>\n      <td>D</td>\n      <td>NaN</td>\n      <td>NaN</td>\n      <td>NaN</td>\n      <td>0.0</td>\n      <td>19211922</td>\n      <td>YEE</td>\n      <td>YUCK</td>\n      <td>YOU</td>\n      <td>NaN</td>\n      <td>NaN</td>\n      <td>NaN</td>\n      <td>NaN</td>\n      <td>NaN</td>\n      <td>NaN</td>\n      <td>NaN</td>\n      <td>NaN</td>\n      <td>NaN</td>\n      <td>NaN</td>\n      <td>NaN</td>\n      <td>NaN</td>\n      <td>SAN FRANCISCO</td>\n      <td>CA</td>\n      <td>NaN</td>\n      <td>NaN</td>\n      <td>NaN</td>\n      <td>NaN</td>\n    </tr>\n  </tbody>\n</table>\n</div>"
          },
          "metadata": {},
          "execution_count": 30
        }
      ],
      "source": [
        "data.head()"
      ]
    },
    {
      "cell_type": "code",
      "execution_count": 31,
      "metadata": {},
      "outputs": [],
      "source": [
        "data.to_csv(\"./output.csv\")"
      ]
    },
    {
      "cell_type": "code",
      "execution_count": null,
      "metadata": {},
      "outputs": [],
      "source": []
    }
  ],
  "metadata": {
    "colab": {
      "name": "summer2020.ipynb",
      "provenance": [],
      "collapsed_sections": []
    },
    "kernelspec": {
      "name": "python3",
      "display_name": "Python 3"
    }
  },
  "nbformat": 4,
  "nbformat_minor": 0
}
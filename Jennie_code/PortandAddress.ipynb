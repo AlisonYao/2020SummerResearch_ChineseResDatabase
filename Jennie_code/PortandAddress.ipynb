{
 "cells": [
  {
   "cell_type": "code",
   "execution_count": 1,
   "metadata": {
    "tags": []
   },
   "outputs": [],
   "source": [
    "# import packages\n",
    "import pandas as pd\n",
    "import numpy as np\n",
    "\n",
    "# read the data\n",
    "data = pd.read_csv(\"CHINESE DB.csv\")\n"
   ]
  },
  {
   "cell_type": "code",
   "execution_count": 2,
   "metadata": {},
   "outputs": [],
   "source": [
    "pd.set_option('display.max_columns', None)\n",
    "pd.set_option('display.max_rows', None)\n",
    "pd.set_option('max_colwidth',100)"
   ]
  },
  {
   "cell_type": "code",
   "execution_count": 3,
   "metadata": {},
   "outputs": [],
   "source": [
    "lissy = data.loc[:,\"PORT\"]\n",
    "index = data.columns.get_loc(\"PORT\")\n",
    "ind_1 = index \n",
    "data.insert(ind_1,'ORIGINPORT',lissy)"
   ]
  },
  {
   "cell_type": "code",
   "execution_count": 4,
   "metadata": {},
   "outputs": [],
   "source": [
    "lissy = data.loc[:,\"PORT2\"]\n",
    "index = data.columns.get_loc(\"PORT2\")\n",
    "ind_1 = index \n",
    "data.insert(ind_1,'ORIGINPORT2',lissy)"
   ]
  },
  {
   "cell_type": "code",
   "execution_count": 9,
   "metadata": {},
   "outputs": [],
   "source": [
    "data.loc[:,\"PORT\"] = data.loc[:,\"PORT\"].replace([\"NEW YORK,NY\",\"NEW YORK\",\"NEW YOKR\",\"NEW YOKR,NY\",\"NEW YORK CITY\",\"NY, NY\",\"NEW YORK NY\",\"NEW YOKR\",\"NY,NY\",\"NEW  YORK, NY\"],\"NEW YORK, NY\")\n",
    "data.loc[:,\"PORT\"] = data.loc[:,\"PORT\"].replace([\"SEATTLE\",\"SEATTLE WA\",\"SEATTLE,WA\",\"SEATTLE]\",\"SEATTKE\"], \"SEATTLE, WA\")\n",
    "data.loc[:,\"PORT\"] = data.loc[:,\"PORT\"].replace([\"BOSTON\",\"BOSTON,MA\",\"EAST BOSTON,MA\",\"BOSTON, WA\",\"BOSTON MA\",\"E. BOSTON, MA\",\"E. BOSTON\",\"EAST BOSTON MA\",\"EAST BOSTON, MA\",\"EAST BOSTON\"],\"BOSTON, MA\")\n",
    "data.loc[:,\"PORT\"] = data.loc[:,\"PORT\"].replace([\"SAN FRANSICO\",\"SAN FRANCISCO,\",\"SAN FRANCISCO19\",\"SAN FRSNCISCO\",\"SAN FRANICSCO\",\"SAB FRANCISCO\",\"SAN FRANCSICO\",\"SAN FRANISCO\",\"SAN FRANCISO\",\"SAN FRANCISC0\",\"SAN FRANCISCO\"], \"SAN FRANCISCO, CA\")\n",
    "data.loc[:,\"PORT\"] = data.loc[:,\"PORT\"].replace(\"RICHFORD,VT\", \"RICHFORD, VT\")\n",
    "data.loc[:,\"PORT\"] = data.loc[:,\"PORT\"].replace(\"BURLINGTON,VT\", \"BURLINGTON, VT\")"
   ]
  },
  {
   "cell_type": "code",
   "execution_count": 10,
   "metadata": {},
   "outputs": [],
   "source": [
    "data.loc[:,\"PORT\"] = data.loc[:,\"PORT\"].replace(\"OGDENBURG,NY\", \"OGDENBURGH, NY\")\n",
    "data.loc[:,\"PORT\"] = data.loc[:,\"PORT\"].replace([\"PLATTSBURGH,NY\",\"PLAETS BURGH,NY\",\"PLATTSBURG\",\"PLATTABURGH, NY\"], \"PLATTSBURGH, NY\")\n",
    "data.loc[:,\"PORT\"] = data.loc[:,\"PORT\"].replace(\"PLATTSBURG, NY\", \"PLATTSBURGH, NY\")\n",
    "data.loc[:,\"PORT\"] = data.loc[:,\"PORT\"].replace([\"VANCOUVER BC\",\"VANCOUVER\", \"VANCOUVER,BC\", \"VANCOUVER,B.C.\",\"VANCOUVER B.C.\",\"VANCOUVER\",\"VANCOURVER,BC\",\"VANCOURVER\",\"VANCOUVER B.C.\",\"VANCOUVER, BC\"],\"VANCOUVER, B.C.\")\n",
    "data.loc[:,\"PORT\"] = data.loc[:,\"PORT\"].replace([\"MALONE,NY\",\"MALONE\",\"MALONE NY\"], \"MALONE, NY\")\n",
    "data.loc[:,\"PORT\"] = data.loc[:,\"PORT\"].replace([\"PORT HENRY,NY\",\"PORT HENRY\",\"PORT HENRY NY\"], \"PORT HENRY, NY\")\n",
    "data.loc[:,\"PORT\"] = data.loc[:,\"PORT\"].replace([\"OGDENSBURG,NY\",\"OGDENSBURGH NY\",\"OGDENSBURGH, NY\",\"OGDENSBURG NY\"], \"OGDENSBURG, NY\")\n",
    "data.loc[:,\"PORT\"] = data.loc[:,\"PORT\"].replace(\"CANTON,NY\",\"CANTON, NY\")\n",
    "data.loc[:,\"PORT\"] = data.loc[:,\"PORT\"].replace([\"NEWPORT,VT\",\"NEWPORT,NY\"], \"NEWPORT, VT\")\n",
    "data.loc[:,\"PORT\"] = data.loc[:,\"PORT\"].replace([\"BURLINGTON\",\"BURLINGTON VT\"], \"BURLINGTON, VT\")\n",
    "data.loc[:,\"PORT\"] = data.loc[:,\"PORT\"].replace([\"RICHFORD VT\",\"RICHFORD\",\"RICHFIELD, VT\",\"RICHORD, VT\"], \"RICHFORD, VT\")  #??richford ny\n",
    "data.loc[:,\"PORT\"] = data.loc[:,\"PORT\"].replace([\"PORTLAND,OR\",\"PORTLAND\",\"PORTLAND OR\",\"RICHORD, VT\"], \"PORTLAND, OR\") \n",
    "data.loc[:,\"PORT\"] = data.loc[:,\"PORT\"].replace([\"BUFFALO,NY\",\"BUFFALO\",\"BURRALO, NY\"], \"BUFFALO, NY\") \n",
    "data.loc[:,\"PORT\"] = data.loc[:,\"PORT\"].replace([\"ST ALBANS,VT\",\"ST. ALBANS\",\"ST. ALBANS, VT\",\"ST ALBAN, VT\"],\"ST ALBANS, VT\") #NY/VT\n",
    "data.loc[:,\"PORT\"] = data.loc[:,\"PORT\"].replace([\"DETRIOIT, MI\",\"DETROIT\"],\"DETROIT, MI\")\n",
    "data.loc[:,\"PORT\"] = data.loc[:,\"PORT\"].replace([\"PT TOWNSEND, WA\",\"PT TOWNSEND,WA\",\"PT TOWNSEND WA\",\"PT.TOWNSEND,WA\",\"PT. TOWNSEND WA\",\"PT.TOWNSEND, NY\",\"PORT TOWNSEND\"],\"PT. TOWNSEND,WA\")\n",
    "data.loc[:,\"PORT\"] = data.loc[:,\"PORT\"].replace(\"NEWARK,NJ\",\"NEWARK, NJ\")\n",
    "data.loc[:,\"PORT\"] = data.loc[:,\"PORT\"].replace(\"VERMONT\",\"VT\")\n",
    "data.loc[:,\"PORT\"] = data.loc[:,\"PORT\"].replace([\"HONOLULU\",\"HONOLULU, HA\"],\"HONOLULU, HI\")\n",
    "data.loc[:,\"PORT\"] = data.loc[:,\"PORT\"].replace([\"BROOKLYN,NY\",\"BROOKLYN\"],\"BROOKLYN, NY\")\n",
    "data.loc[:,\"PORT\"] = data.loc[:,\"PORT\"].replace([\"NEW ORLEANS,LA\",\"NEW ORLEANS\"],\"NEW ORLEANS, LA\")\n",
    "data.loc[:,\"PORT\"] = data.loc[:,\"PORT\"].replace(\"PORTAL,ND\",\"PORTAL, ND\")\n",
    "data.loc[:,\"PORT\"] = data.loc[:,\"PORT\"].replace([\"ODGENSBURG,NY\",\"OGENSBURGS, NY\",\"ODGENSBURG, NY\"],\"OGDENSBURG, NY\")\n",
    "data.loc[:,\"PORT\"] = data.loc[:,\"PORT\"].replace(\"NEW HEAVEN, CT\",\"NEW HAVEN, CT\")\n",
    "data.loc[:,\"PORT\"] = data.loc[:,\"PORT\"].replace(\"SCHENECTADY,NY\",\"SCHENECTADY, NY\")\n",
    "data.loc[:,\"PORT\"] = data.loc[:,\"PORT\"].replace([\"OGDENBURG, NY\",\"OGDENSUBRG, NY\",\"OGENSBURG, NY\"],\"OGDENSBURG, NY\")\n",
    "data.loc[:,\"PORT\"] = data.loc[:,\"PORT\"].replace([\"PHILADELPHIA,PA\",\"PHILADELPHIA\"],\"PHILADELPHIA, PA\")\n",
    "data.loc[:,\"PORT\"] = data.loc[:,\"PORT\"].replace([\"BALTIMORE,MD\",\"BALTIMORE\"],\"BALTIMORE, MD\")\n",
    "data.loc[:,\"PORT\"] = data.loc[:,\"PORT\"].replace([\"NIAGARA FALLS\",\"NIAGARA FALLSNY\",\"NIAGARAFALLS,NY\"],\"NIAGARAFALLS, NY\")\n",
    "data.loc[:,\"PORT\"] = data.loc[:,\"PORT\"].replace([\"SUMAS,WA\",\"PT SUMAS, WA\",\"SUMAS WA\",\"SUMA, WA\"],\"SUMAS, WA\")\n",
    "data.loc[:,\"PORT\"] = data.loc[:,\"PORT\"].replace([\"NY VIA TRINIDAD\",\"NY VIA CUBA\",\"NY VIA HAVANA\",\"NY(FROM LONDON)\",\"VIA TRINIDAD\",\"NY VIA B.W.I.\"],\"NY\")\n"
   ]
  },
  {
   "cell_type": "code",
   "metadata": {},
   "source": [
    "data.loc[:,\"PORT\"] = data.loc[:,\"PORT\"].replace(\"OREGON\",\"OR\")\n",
    "data.loc[:,\"PORT\"] = data.loc[:,\"PORT\"].replace(\"PENNSYLVANIA\",\"PA\")\n",
    "data.loc[:,\"PORT\"] = data.loc[:,\"PORT\"].replace(\"LOUISIANA\",\"LA\")\n",
    "data.loc[:,\"PORT\"] = data.loc[:,\"PORT\"].replace(\"FORT TOWNSEND\",\"FORT TOWNSEND, WA\")\n",
    "data.loc[:,\"PORT\"] = data.loc[:,\"PORT\"].replace([\"CALIFORNIA\",\"N. CALIFORNIA\"],\"CA\")\n",
    "data.loc[:,\"PORT\"] = data.loc[:,\"PORT\"].replace(\"N. DOKOTA\",\"ND\")\n",
    "data.loc[:,\"PORT\"] = data.loc[:,\"PORT\"].replace(\"LOS ANGELES\",\"LA\")\n",
    "data.loc[:,\"PORT\"] = data.loc[:,\"PORT\"].replace(\"NEW JERSEY\",\"NJ\")\n",
    "data.loc[:,\"PORT\"] = data.loc[:,\"PORT\"].replace(\"HAWAII\",\"HI\")\n",
    "data.loc[:,\"PORT\"] = data.loc[:,\"PORT\"].replace(\"ANGEL ISL. CA\",\"ANGEL ISL., CA\")\n",
    "data.loc[:,\"PORT\"] = data.loc[:,\"PORT\"].replace(\"CONNECTICUT\",\"CT\")\n"
   ],
   "execution_count": 11,
   "outputs": []
  },
  {
   "cell_type": "code",
   "execution_count": 13,
   "metadata": {
    "tags": []
   },
   "outputs": [],
   "source": [
    "lissy = data.loc[:,\"PORT\"]\n",
    "city = []\n",
    "state = []\n",
    "for i in lissy:\n",
    "    if pd.notnull(i):\n",
    "        temp = i.split(\",\")\n",
    "        if len(temp) != 1 and len(temp) != 2:\n",
    "            print(temp)\n",
    "        if len(temp) == 1:\n",
    "            city.append(0)\n",
    "            state.append(temp[0].strip())\n",
    "        else:\n",
    "            city.append(temp[0].strip())\n",
    "            state.append(temp[1].strip())\n",
    "    else:\n",
    "        city.append(i)\n",
    "        state.append(i)\n"
   ]
  },
  {
   "cell_type": "code",
   "execution_count": 14,
   "metadata": {},
   "outputs": [],
   "source": [
    "port_index = data.columns.get_loc(\"PORT\")"
   ]
  },
  {
   "cell_type": "code",
   "execution_count": 15,
   "metadata": {},
   "outputs": [],
   "source": [
    "ind = port_index + 1\n",
    "data.insert(ind,'CITY',city)"
   ]
  },
  {
   "cell_type": "code",
   "execution_count": 16,
   "metadata": {},
   "outputs": [
    {
     "output_type": "execute_result",
     "data": {
      "text/plain": "  DONE Y/N NO FORM 431        DATE  Screened  BOX  CASENO1  CASENO2    NAME1  \\\n0      NaN         NaN         NaN     False    1      5.0      3.0     CHIN   \n1      NaN           X  2020.03.18     False    1      5.0      4.0      HOM   \n2      NaN         NaN         NaN     False    1      5.0      9.0  WILLIAM   \n3      NaN         NaN         NaN     False    1      5.0     10.0      LEE   \n4      NaN         NaN         NaN     False    1      5.0     19.0      YEE   \n\n  NAME2 NAME3 ALIAS1 ALIAS2 ALIAS3 CHINESE1 CHINESE2  CHINESE3  CHINESE4 SEX  \\\n0   GOK    PO   CHIN   KUNG   PACK      NaN      NaN       NaN       NaN   M   \n1  CHEE   NaN   DONG     AH   CHEE      NaN      NaN       NaN       NaN   M   \n2     K  WONG   WONG   KING   SING      NaN      NaN       NaN       NaN   M   \n3   DEN   NaN    NaN    NaN    NaN      NaN      NaN       NaN       NaN   M   \n4  HING   NaN     YU    YUK    YIN      NaN      NaN       NaN       NaN   M   \n\n      ORIGINPORT              PORT          CITY     BIRTHPLACE HOMETOWN  \\\n0            NaN               NaN           NaN          CHINA      NaN   \n1   NEW YORK, NY      NEW YORK, NY      NEW YORK          CHINA      NaN   \n2  NIAGARA FALLS  NIAGARAFALLS, NY  NIAGARAFALLS          CHINA      NaN   \n3            NaN               NaN           NaN          CHINA      NaN   \n4            NaN               NaN           NaN  SAN FRANCISCO      NaN   \n\n  OCUPATION1        STREET1          CITY1 STATE1 SPONSOR   WIFE  KIDS  \\\n0        NaN  323 PA AVE,NW     WASHINGTON     DC     NaN  False   0.0   \n1     SEAMAN            NaN            NaN    NaN     NaN  False   0.0   \n2    LABORER            NaN  NIAGARA FALLS     NY     NaN  False   0.0   \n3    LABORER            NaN      WATERTOWN     NY     NaN  False   0.0   \n4        NaN            NaN        DETROIT     MI     NaN  False   0.0   \n\n   PICTURE  INTEROG CASEDESCR ORIGINPORT2 PORT2  SPONSADDR COMMENTS   AGE  \\\n0    False    False         D         NaN   NaN        NaN      NaN   0.0   \n1    False    False         D         NaN   NaN        NaN      NaN  28.0   \n2    False    False         D         NaN   NaN        NaN      NaN   0.0   \n3    False    False         D         NaN   NaN        NaN      NaN   0.0   \n4    False    False         D         NaN   NaN        NaN      NaN   0.0   \n\n    DOCDATE THIRD1 THIRD2 THIRD3 BIRTHDATE ENTRYDATE ENTRYDATE2 OCUPATION2  \\\n0  19211922    NaN    NaN    NaN       NaN      1892        NaN        NaN   \n1  19201922    HOM    SEE  CHUCK       NaN      1920        NaN        NaN   \n2  19211921    NaN    NaN    NaN       NaN      1921        NaN        NaN   \n3  19211921    NaN    NaN    NaN       NaN       NaN        NaN        NaN   \n4  19211922    YEE   YUCK    YOU       NaN       NaN        NaN        NaN   \n\n  OCUPATION3 STREET2          CITY2 STATE2 STREET3 CITY3 STATE3 MEMO2  \n0        NaN     NaN            NaN    NaN     NaN   NaN    NaN   NaN  \n1        NaN     NaN            NaN    NaN     NaN   NaN    NaN   NaN  \n2        NaN     NaN            NaN    NaN     NaN   NaN    NaN   NaN  \n3        NaN     NaN            NaN    NaN     NaN   NaN    NaN   NaN  \n4        NaN     NaN  SAN FRANCISCO     CA     NaN   NaN    NaN   NaN  ",
      "text/html": "<div>\n<style scoped>\n    .dataframe tbody tr th:only-of-type {\n        vertical-align: middle;\n    }\n\n    .dataframe tbody tr th {\n        vertical-align: top;\n    }\n\n    .dataframe thead th {\n        text-align: right;\n    }\n</style>\n<table border=\"1\" class=\"dataframe\">\n  <thead>\n    <tr style=\"text-align: right;\">\n      <th></th>\n      <th>DONE Y/N</th>\n      <th>NO FORM 431</th>\n      <th>DATE</th>\n      <th>Screened</th>\n      <th>BOX</th>\n      <th>CASENO1</th>\n      <th>CASENO2</th>\n      <th>NAME1</th>\n      <th>NAME2</th>\n      <th>NAME3</th>\n      <th>ALIAS1</th>\n      <th>ALIAS2</th>\n      <th>ALIAS3</th>\n      <th>CHINESE1</th>\n      <th>CHINESE2</th>\n      <th>CHINESE3</th>\n      <th>CHINESE4</th>\n      <th>SEX</th>\n      <th>ORIGINPORT</th>\n      <th>PORT</th>\n      <th>CITY</th>\n      <th>BIRTHPLACE</th>\n      <th>HOMETOWN</th>\n      <th>OCUPATION1</th>\n      <th>STREET1</th>\n      <th>CITY1</th>\n      <th>STATE1</th>\n      <th>SPONSOR</th>\n      <th>WIFE</th>\n      <th>KIDS</th>\n      <th>PICTURE</th>\n      <th>INTEROG</th>\n      <th>CASEDESCR</th>\n      <th>ORIGINPORT2</th>\n      <th>PORT2</th>\n      <th>SPONSADDR</th>\n      <th>COMMENTS</th>\n      <th>AGE</th>\n      <th>DOCDATE</th>\n      <th>THIRD1</th>\n      <th>THIRD2</th>\n      <th>THIRD3</th>\n      <th>BIRTHDATE</th>\n      <th>ENTRYDATE</th>\n      <th>ENTRYDATE2</th>\n      <th>OCUPATION2</th>\n      <th>OCUPATION3</th>\n      <th>STREET2</th>\n      <th>CITY2</th>\n      <th>STATE2</th>\n      <th>STREET3</th>\n      <th>CITY3</th>\n      <th>STATE3</th>\n      <th>MEMO2</th>\n    </tr>\n  </thead>\n  <tbody>\n    <tr>\n      <th>0</th>\n      <td>NaN</td>\n      <td>NaN</td>\n      <td>NaN</td>\n      <td>False</td>\n      <td>1</td>\n      <td>5.0</td>\n      <td>3.0</td>\n      <td>CHIN</td>\n      <td>GOK</td>\n      <td>PO</td>\n      <td>CHIN</td>\n      <td>KUNG</td>\n      <td>PACK</td>\n      <td>NaN</td>\n      <td>NaN</td>\n      <td>NaN</td>\n      <td>NaN</td>\n      <td>M</td>\n      <td>NaN</td>\n      <td>NaN</td>\n      <td>NaN</td>\n      <td>CHINA</td>\n      <td>NaN</td>\n      <td>NaN</td>\n      <td>323 PA AVE,NW</td>\n      <td>WASHINGTON</td>\n      <td>DC</td>\n      <td>NaN</td>\n      <td>False</td>\n      <td>0.0</td>\n      <td>False</td>\n      <td>False</td>\n      <td>D</td>\n      <td>NaN</td>\n      <td>NaN</td>\n      <td>NaN</td>\n      <td>NaN</td>\n      <td>0.0</td>\n      <td>19211922</td>\n      <td>NaN</td>\n      <td>NaN</td>\n      <td>NaN</td>\n      <td>NaN</td>\n      <td>1892</td>\n      <td>NaN</td>\n      <td>NaN</td>\n      <td>NaN</td>\n      <td>NaN</td>\n      <td>NaN</td>\n      <td>NaN</td>\n      <td>NaN</td>\n      <td>NaN</td>\n      <td>NaN</td>\n      <td>NaN</td>\n    </tr>\n    <tr>\n      <th>1</th>\n      <td>NaN</td>\n      <td>X</td>\n      <td>2020.03.18</td>\n      <td>False</td>\n      <td>1</td>\n      <td>5.0</td>\n      <td>4.0</td>\n      <td>HOM</td>\n      <td>CHEE</td>\n      <td>NaN</td>\n      <td>DONG</td>\n      <td>AH</td>\n      <td>CHEE</td>\n      <td>NaN</td>\n      <td>NaN</td>\n      <td>NaN</td>\n      <td>NaN</td>\n      <td>M</td>\n      <td>NEW YORK, NY</td>\n      <td>NEW YORK, NY</td>\n      <td>NEW YORK</td>\n      <td>CHINA</td>\n      <td>NaN</td>\n      <td>SEAMAN</td>\n      <td>NaN</td>\n      <td>NaN</td>\n      <td>NaN</td>\n      <td>NaN</td>\n      <td>False</td>\n      <td>0.0</td>\n      <td>False</td>\n      <td>False</td>\n      <td>D</td>\n      <td>NaN</td>\n      <td>NaN</td>\n      <td>NaN</td>\n      <td>NaN</td>\n      <td>28.0</td>\n      <td>19201922</td>\n      <td>HOM</td>\n      <td>SEE</td>\n      <td>CHUCK</td>\n      <td>NaN</td>\n      <td>1920</td>\n      <td>NaN</td>\n      <td>NaN</td>\n      <td>NaN</td>\n      <td>NaN</td>\n      <td>NaN</td>\n      <td>NaN</td>\n      <td>NaN</td>\n      <td>NaN</td>\n      <td>NaN</td>\n      <td>NaN</td>\n    </tr>\n    <tr>\n      <th>2</th>\n      <td>NaN</td>\n      <td>NaN</td>\n      <td>NaN</td>\n      <td>False</td>\n      <td>1</td>\n      <td>5.0</td>\n      <td>9.0</td>\n      <td>WILLIAM</td>\n      <td>K</td>\n      <td>WONG</td>\n      <td>WONG</td>\n      <td>KING</td>\n      <td>SING</td>\n      <td>NaN</td>\n      <td>NaN</td>\n      <td>NaN</td>\n      <td>NaN</td>\n      <td>M</td>\n      <td>NIAGARA FALLS</td>\n      <td>NIAGARAFALLS, NY</td>\n      <td>NIAGARAFALLS</td>\n      <td>CHINA</td>\n      <td>NaN</td>\n      <td>LABORER</td>\n      <td>NaN</td>\n      <td>NIAGARA FALLS</td>\n      <td>NY</td>\n      <td>NaN</td>\n      <td>False</td>\n      <td>0.0</td>\n      <td>False</td>\n      <td>False</td>\n      <td>D</td>\n      <td>NaN</td>\n      <td>NaN</td>\n      <td>NaN</td>\n      <td>NaN</td>\n      <td>0.0</td>\n      <td>19211921</td>\n      <td>NaN</td>\n      <td>NaN</td>\n      <td>NaN</td>\n      <td>NaN</td>\n      <td>1921</td>\n      <td>NaN</td>\n      <td>NaN</td>\n      <td>NaN</td>\n      <td>NaN</td>\n      <td>NaN</td>\n      <td>NaN</td>\n      <td>NaN</td>\n      <td>NaN</td>\n      <td>NaN</td>\n      <td>NaN</td>\n    </tr>\n    <tr>\n      <th>3</th>\n      <td>NaN</td>\n      <td>NaN</td>\n      <td>NaN</td>\n      <td>False</td>\n      <td>1</td>\n      <td>5.0</td>\n      <td>10.0</td>\n      <td>LEE</td>\n      <td>DEN</td>\n      <td>NaN</td>\n      <td>NaN</td>\n      <td>NaN</td>\n      <td>NaN</td>\n      <td>NaN</td>\n      <td>NaN</td>\n      <td>NaN</td>\n      <td>NaN</td>\n      <td>M</td>\n      <td>NaN</td>\n      <td>NaN</td>\n      <td>NaN</td>\n      <td>CHINA</td>\n      <td>NaN</td>\n      <td>LABORER</td>\n      <td>NaN</td>\n      <td>WATERTOWN</td>\n      <td>NY</td>\n      <td>NaN</td>\n      <td>False</td>\n      <td>0.0</td>\n      <td>False</td>\n      <td>False</td>\n      <td>D</td>\n      <td>NaN</td>\n      <td>NaN</td>\n      <td>NaN</td>\n      <td>NaN</td>\n      <td>0.0</td>\n      <td>19211921</td>\n      <td>NaN</td>\n      <td>NaN</td>\n      <td>NaN</td>\n      <td>NaN</td>\n      <td>NaN</td>\n      <td>NaN</td>\n      <td>NaN</td>\n      <td>NaN</td>\n      <td>NaN</td>\n      <td>NaN</td>\n      <td>NaN</td>\n      <td>NaN</td>\n      <td>NaN</td>\n      <td>NaN</td>\n      <td>NaN</td>\n    </tr>\n    <tr>\n      <th>4</th>\n      <td>NaN</td>\n      <td>NaN</td>\n      <td>NaN</td>\n      <td>False</td>\n      <td>1</td>\n      <td>5.0</td>\n      <td>19.0</td>\n      <td>YEE</td>\n      <td>HING</td>\n      <td>NaN</td>\n      <td>YU</td>\n      <td>YUK</td>\n      <td>YIN</td>\n      <td>NaN</td>\n      <td>NaN</td>\n      <td>NaN</td>\n      <td>NaN</td>\n      <td>M</td>\n      <td>NaN</td>\n      <td>NaN</td>\n      <td>NaN</td>\n      <td>SAN FRANCISCO</td>\n      <td>NaN</td>\n      <td>NaN</td>\n      <td>NaN</td>\n      <td>DETROIT</td>\n      <td>MI</td>\n      <td>NaN</td>\n      <td>False</td>\n      <td>0.0</td>\n      <td>False</td>\n      <td>False</td>\n      <td>D</td>\n      <td>NaN</td>\n      <td>NaN</td>\n      <td>NaN</td>\n      <td>NaN</td>\n      <td>0.0</td>\n      <td>19211922</td>\n      <td>YEE</td>\n      <td>YUCK</td>\n      <td>YOU</td>\n      <td>NaN</td>\n      <td>NaN</td>\n      <td>NaN</td>\n      <td>NaN</td>\n      <td>NaN</td>\n      <td>NaN</td>\n      <td>SAN FRANCISCO</td>\n      <td>CA</td>\n      <td>NaN</td>\n      <td>NaN</td>\n      <td>NaN</td>\n      <td>NaN</td>\n    </tr>\n  </tbody>\n</table>\n</div>"
     },
     "metadata": {},
     "execution_count": 16
    }
   ],
   "source": [
    "data.head()"
   ]
  },
  {
   "cell_type": "code",
   "execution_count": 17,
   "metadata": {},
   "outputs": [],
   "source": [
    "ind_2 = port_index + 2\n",
    "data.insert(ind_2,'STATE',state)"
   ]
  },
  {
   "cell_type": "markdown",
   "metadata": {},
   "source": [
    "!!!!!!!!!!!!!STREET1/CITY1/STATE1"
   ]
  },
  {
   "cell_type": "code",
   "execution_count": 18,
   "metadata": {
    "tags": []
   },
   "outputs": [],
   "source": [
    "from fuzzywuzzy import process as process\n",
    "from fuzzywuzzy import fuzz as fuzz\n",
    "def replace_matches_in_column(df, column, string_to_match, min_ratio = 90):\n",
    "    # get a list of unique strings\n",
    "    strings = df[column].unique()\n",
    "    \n",
    "    # get the top 10 closest matches to our input string\n",
    "    matches = process.extract(string_to_match, strings, limit=10, scorer= fuzz.token_sort_ratio)\n",
    "\n",
    "    # only get matches with a ratio > 90\n",
    "    close_matches = [matches[0] for matches in matches if matches[1] >= min_ratio]\n",
    "\n",
    "    # get the rows of all the close matches in our dataframe\n",
    "    rows_with_matches = df[column].isin(close_matches)\n",
    "\n",
    "    # replace all rows with close matches with the input matches \n",
    "    df.loc[rows_with_matches, column] = string_to_match\n",
    "    print(close_matches)\n",
    "    # let us know the function's done\n",
    "    print(\"All done!\")\n",
    "\n"
   ]
  },
  {
   "cell_type": "code",
   "execution_count": 19,
   "metadata": {},
   "outputs": [],
   "source": [
    "data[\"CITY1\"] = data[\"CITY1\"].str.strip(\",\")\n",
    "State = [\"NY\",\"CA\",\"CT\",\"NJ\",\"MA\",\"PA\",\"IL\",\"MI\"]\n",
    "for index in data.index:\n",
    "    if pd.notnull(data.loc[index,\"CITY1\"]):\n",
    "\n",
    "        temp = data.loc[index,\"CITY1\"].split(\",\")\n",
    "        if len(temp) == 2:\n",
    "            for i in range(len(temp)):\n",
    "                temp[i] = temp[i].strip()\n",
    "            if temp[1] in State:\n",
    "                data.loc[index,\"STATE1\"] = temp[1]\n",
    "                data.loc[index,\"CITY1\"] = temp[0]\n",
    "            elif temp[1] in [\"L.I.\",\"LI\"]:\n",
    "                data.loc[index,\"CITY1\"] = \"LONG ISLAND\" #?????\n",
    "            elif temp[1] in [\"SI\",\"S.I.\",\"STAT. IS\"]:\n",
    "                data.loc[index,\"CITY1\"] = \"Staten Island\"\n",
    "            elif temp[1] == \"CONN.\":\n",
    "                data.loc[index,\"CITY1\"] = temp[0]\n",
    "                data.loc[index,\"STATE1\"] = \"CT\"\n",
    "            elif temp[1] == \"MICH\":\n",
    "                data.loc[index,\"CITY1\"] = temp[0]\n",
    "                data.loc[index,\"STATE1\"] = \"MI\"\n",
    "            elif temp[1] == \"MONTANA\":\n",
    "                data.loc[index,\"CITY1\"] = temp[0]\n",
    "                data.loc[index,\"STATE1\"] = \"MT\"\n",
    "            elif temp[1] == \"HAWAII\":\n",
    "                data.loc[index,\"CITY1\"] = temp[0]\n",
    "                data.loc[index,\"STATE1\"] = \"HI\"\n",
    "            elif temp[1] == \"CANADA\":\n",
    "                data.loc[index,\"CITY1\"] = temp[0]\n",
    "                data.loc[index,\"STATE1\"] = \"CANADA\"\n",
    "            elif temp[1] == \"CUMBERLAND\":\n",
    "                data.loc[index,\"CITY1\"] = temp[1]\n",
    "            elif temp[1] == \"NEWARK\":\n",
    "                data.loc[index,\"CITY1\"] = temp[1]\n",
    "                data.loc[index,\"STREET1\"] += \" \"\n",
    "                data.loc[index,\"STREET1\"] += temp[0]\n",
    "            elif temp[1] == \"SAFRICA\":\n",
    "                data.loc[index,\"CITY1\"] = \"JOHANNESBURG\"\n",
    "                data.loc[index,\"STATE1\"] = \"SAFRICA\""
   ]
  },
  {
   "cell_type": "code",
   "execution_count": 20,
   "metadata": {},
   "outputs": [],
   "source": [
    "data.loc[:,\"STREET1\"].replace(\"C/O F.F.McCLINTOCK\", \"C/O F.F.McCLINTOCK 11 CLIFF ST.\",inplace = True)\n",
    "data.loc[:,\"STREET1\"] = data.loc[:,\"STREET1\"].replace(\"C/O TONYING CHINESE CO.\", \"C/O TONYING CHINESE CO. 615 5TH AVE.\")\n",
    "data.loc[:,\"STREET1\"] = data.loc[:,\"STREET1\"].replace(\"C/O JAS V. STOREY\", \"C/O JAS V. STOREY 17 STATE ST.\")\n",
    "data.loc[:,\"STREET1\"] = data.loc[:,\"STREET1\"].replace(\"13 MOTT ST. NY, NY\", \"13 MOTT ST.(WING ON WO & CO.)\")"
   ]
  },
  {
   "cell_type": "code",
   "execution_count": 21,
   "metadata": {
    "tags": []
   },
   "outputs": [
    {
     "output_type": "stream",
     "name": "stdout",
     "text": "['NEW YORK', 'New York', \"NEW YORK'\", 'NEW YOEK', 'NEW YROK', 'NWE YORK', 'NEW YURK', 'NEW YOKR', 'NEW Y0RK', 'WEST NEW YORK']\nAll done!\n['SAN FRANCISCO', 'SAN FRNACISCO']\nAll done!\n"
    }
   ],
   "source": [
    "data.loc[:,\"CITY1\"].replace([\"NEW YORK CITY\",\"NYC\",\"COLUMBIA UNIVERSITY\",\"11 CLIFF ST NEW YORK\",\"615 5TH AVE.NEW YORK\",\"17 STATE ST. NY, NY\",\"NY\",\"WEST NEW YORK'\",\"(WING ON WO & CO.)\",\"17 STATE ST. NY\",'ROCKAWAY BEACH', 'FAR ROCKAWAY', 'ROCKAWAY'],\"NEW YORK\",inplace=True)\n",
    "data.loc[:,\"'CITY1\"] = data.loc[:,\"CITY1\"].replace('PITTSBURG','PITTSBURGH')\n",
    "data.loc[:,\"CITY1\"] = data.loc[:,\"CITY1\"].replace([\"CHESTER\",'PORTCHESTER'], \"ROCHESTER\")\n",
    "replace_matches_in_column(data, \"CITY1\", \"NEW YORK\", min_ratio = 75)\n",
    "replace_matches_in_column(data, \"CITY1\", \"SAN FRANCISCO\", min_ratio = 68)"
   ]
  },
  {
   "cell_type": "code",
   "execution_count": 22,
   "metadata": {},
   "outputs": [],
   "source": [
    "data.loc[:,\"CITY1\"] = data.loc[:,\"CITY1\"].replace([\"CHESTER\",'PORTCHESTER'], \"ROCHESTER\")"
   ]
  },
  {
   "cell_type": "code",
   "execution_count": 23,
   "metadata": {
    "tags": []
   },
   "outputs": [
    {
     "output_type": "stream",
     "name": "stdout",
     "text": "['BROOKLYN', 'BOOKLYN', 'BROOKYLN']\nAll done!\n['PHILADELPHIA', 'PILADELPHIA', 'PHILADELPHA', 'PHILDELPHIA']\nAll done!\n['BALTIMORE', 'BALTIMORER', 'BALIMORE', 'BLATIMORE', 'BALITMORE']\nAll done!\n"
    }
   ],
   "source": [
    "replace_matches_in_column(data, \"CITY1\", 'BROOKLYN', min_ratio = 68)\n",
    "replace_matches_in_column(data, \"CITY1\", \"PHILADELPHIA\", min_ratio = 60)\n",
    "replace_matches_in_column(data, \"CITY1\", \"BALTIMORE\", min_ratio = 80)\n"
   ]
  },
  {
   "cell_type": "code",
   "execution_count": 24,
   "metadata": {
    "tags": []
   },
   "outputs": [
    {
     "output_type": "stream",
     "name": "stdout",
     "text": "['NEWARK']\nAll done!\n['BRONX', 'BRONZ']\nAll done!\n['BOSTON']\nAll done!\n['BUFFALO']\nAll done!\n['WASHINGTON D.C.', 'WAHINGTON D.C.', 'WASHINGTON DC', 'N.W. WASHINGTON D.C.', 'WASHINGTON', 'FT WASHINGTON']\nAll done!\n['PORTLAND']\nAll done!\n['JERSEY CITY']\nAll done!\n['SEATTLE']\nAll done!\n['ALBANY']\nAll done!\n['OAKLAND']\nAll done!\n['CHICAGO', 'CHICO']\nAll done!\n['TROY']\nAll done!\n['PATERSON', 'PATTERSON', 'PETERSON']\nAll done!\n['BRIDGEPORT', 'BRIDGE PORT', 'BRIDEPPORT']\nAll done!\n['SACRAMENTO', 'SACREMENTO']\nAll done!\n"
    }
   ],
   "source": [
    "lissy_1 = [\"NEWARK\",\"BRONX\",\"BOSTON\",\"BUFFALO\",\"WASHINGTON D.C.\",\"PORTLAND\",\"JERSEY CITY\",\"SEATTLE\",\"ALBANY\",\"OAKLAND\",\"CHICAGO\",\"TROY\",\"PATERSON\",\"BRIDGEPORT\",\"SACRAMENTO\"]\n",
    "for i in lissy_1:\n",
    "    replace_matches_in_column(data, \"CITY1\", i, min_ratio = 80)"
   ]
  },
  {
   "cell_type": "code",
   "execution_count": 25,
   "metadata": {
    "tags": []
   },
   "outputs": [
    {
     "output_type": "stream",
     "name": "stdout",
     "text": "['HARTFORD', 'HANFORD']\nAll done!\n['YONKERS', 'YONKER', 'N. YONKERS']\nAll done!\n['NEW HAVEN', 'NEW HEAVEN']\nAll done!\n['LOS ANGELES']\nAll done!\n['SCHENECTADY', 'SCHNECTADY', 'SCHENEVTADY', 'SCHECTADY']\nAll done!\n['Staten Island', 'STATEN ISLAND']\nAll done!\n['ASTORIA']\nAll done!\n['SPRINGFIELD', 'WEST SPRINGFIELD']\nAll done!\n['LONG ISLAND', 'LONG ISLAND CITY']\nAll done!\n['STOCKTON']\nAll done!\n['CLEVELAND']\nAll done!\n['SAN JOSE']\nAll done!\n"
    }
   ],
   "source": [
    "lissy_2 = [\"HARTFORD\",\"YONKERS\",\"NEW HAVEN\",\"LOS ANGELES\",\"SCHENECTADY\",\"STATEN ISLAND\",\"ASTORIA\",\"SPRINGFIELD\",\"LONG ISLAND\",\"STOCKTON\",\"CLEVELAND\",\"SAN JOSE\"]\n",
    "for i in lissy_2:\n",
    "    replace_matches_in_column(data, \"CITY1\", i, min_ratio = 80)\n"
   ]
  },
  {
   "cell_type": "code",
   "execution_count": 26,
   "metadata": {
    "tags": []
   },
   "outputs": [
    {
     "output_type": "stream",
     "name": "stdout",
     "text": "['CLEVELAND']\nAll done!\n['STOCKTON']\nAll done!\n['BUTTE CITY']\nAll done!\n['JAMAICA']\nAll done!\n['HOBOKEN', 'W HOBOKEN', 'W. HOBOKEN']\nAll done!\n['SAN DIEGO']\nAll done!\n['ATLANTIC CITY']\nAll done!\n['NORFOLK', 'NORFOLD', 'NORFORK']\nAll done!\n['PROVIDENCE', 'NEW PROVIDENCE']\nAll done!\n['FRESNO']\nAll done!\n['SYRACUSE']\nAll done!\n['NEW BRUNSWICK']\nAll done!\n['ITHACA', 'ITHACH', 'ITHAEA']\nAll done!\n['SCRANTON']\nAll done!\n['TRENTON', 'FRENTON']\nAll done!\n['OROVILLE', 'ORROVILLE', 'ROSEVILLE']\nAll done!\n['WHITE PLAINS']\nAll done!\n['CAMDEN']\nAll done!\n['ELIZABETH', 'ELIZABETHPORT']\nAll done!\n['ORANGE', 'E ORANGE', 'E. ORANGE', 'W. ORANGE', 'S. ORANGE']\nAll done!\n"
    }
   ],
   "source": [
    "lissy_3 = ['CLEVELAND','STOCKTON','BUTTE CITY','JAMAICA','HOBOKEN','SAN DIEGO','ATLANTIC CITY','NORFOLK','PROVIDENCE','FRESNO','SYRACUSE','NEW BRUNSWICK','ITHACA','SCRANTON','TRENTON','OROVILLE','WHITE PLAINS','CAMDEN','ELIZABETH','ORANGE']\n",
    "for i in lissy_3:\n",
    "    replace_matches_in_column(data, \"CITY1\", i, min_ratio = 80)"
   ]
  },
  {
   "cell_type": "code",
   "execution_count": 27,
   "metadata": {
    "tags": []
   },
   "outputs": [
    {
     "output_type": "stream",
     "name": "stdout",
     "text": "['WATERBURY']\nAll done!\n['WATERTOWN']\nAll done!\n['BAYONNE']\nAll done!\n['MONTCLAIR']\nAll done!\n['DANBURY']\nAll done!\n['FLUSHING']\nAll done!\n['DOVER', 'ANDOVER']\nAll done!\n['DETROIT']\nAll done!\n['CONEY ISLAND']\nAll done!\n['PITTSFIELD']\nAll done!\n['WOODSIDE']\nAll done!\n['UTICA']\nAll done!\n['MARYSVILLE']\nAll done!\n['HEMPSTEAD', 'HEMPSTED']\nAll done!\n['ASBURY PARK']\nAll done!\n['JACKSON HEIGHTS']\nAll done!\n['NEWPORT NEWS']\nAll done!\n['HACKENSACK', 'HACKENSACH']\nAll done!\n['RICHMOND']\nAll done!\n"
    }
   ],
   "source": [
    "data.loc[:,\"CITY1\"] = data.loc[:,\"CITY1\"].replace([\"EAST ORANGE\",\"E. ORANGE, NJ\",\"EAST ORANGE\",\"SOUTH ORANGE\"],\"ORANGE\")\n",
    "lissy_4 = [\"WATERBURY\",\"WATERTOWN\",\"BAYONNE\",\"MONTCLAIR\",\"DANBURY\",\"FLUSHING\",\"DOVER\",\"DETROIT\",\"CONEY ISLAND\",\"PITTSFIELD\",\"WOODSIDE\",\"UTICA\",\"MARYSVILLE\",\"HEMPSTEAD\",\"ASBURY PARK\",\"JACKSON HEIGHTS\",\"NEWPORT NEWS\",\"HACKENSACK\",\"RICHMOND\"]\n",
    "for i in lissy_4:\n",
    "    replace_matches_in_column(data, \"CITY1\", i, min_ratio = 80)"
   ]
  },
  {
   "cell_type": "code",
   "execution_count": 28,
   "metadata": {
    "tags": []
   },
   "outputs": [
    {
     "output_type": "stream",
     "name": "stdout",
     "text": "['CLEVELAND']\nAll done!\n['STOCKTON']\nAll done!\n['BUTTE CITY']\nAll done!\n['JAMAICA']\nAll done!\n['HOBOKEN']\nAll done!\n['SAN DIEGO']\nAll done!\n['ATLANTIC CITY']\nAll done!\n['NORFOLK']\nAll done!\n['PROVIDENCE']\nAll done!\n['FRESNO']\nAll done!\n"
    }
   ],
   "source": [
    "lissy_3 = [\"CLEVELAND\",\"STOCKTON\",\"BUTTE CITY\",\"JAMAICA\",\"HOBOKEN\",\"SAN DIEGO\",\"ATLANTIC CITY\",\"NORFOLK\",\"PROVIDENCE\",\"FRESNO\"]\n",
    "for i in lissy_3:\n",
    "    replace_matches_in_column(data, \"CITY1\", i, min_ratio = 78)"
   ]
  },
  {
   "cell_type": "code",
   "execution_count": 29,
   "metadata": {
    "tags": []
   },
   "outputs": [
    {
     "output_type": "stream",
     "name": "stdout",
     "text": "['NEW BRUNSWICK']\nAll done!\n['ELIZABETH']\nAll done!\n['TRENTON']\nAll done!\n['SCRANTON']\nAll done!\n['WHITE PLAINS']\nAll done!\n['CAMDEN']\nAll done!\n['DETROIT']\nAll done!\n['MT VERNON', 'MOUNT VERNON']\nAll done!\n['NEW ROCHELLE']\nAll done!\n['DENVER', 'DANVER']\nAll done!\n['DOVER']\nAll done!\n['WATERTOWN']\nAll done!\n['WATERBURY']\nAll done!\n['MONTCLAIR']\nAll done!\n['DANBURY']\nAll done!\n['FLUSHING']\nAll done!\n['UTICA']\nAll done!\n['MARYSVILLE']\nAll done!\n['HEMPSTEAD']\nAll done!\n['PITTSFIELD']\nAll done!\n['CONEY ISLAND']\nAll done!\n['HACKENSACK']\nAll done!\n"
    }
   ],
   "source": [
    "lissy_4 = [\"NEW BRUNSWICK\",\"ELIZABETH\",\"TRENTON\",\"SCRANTON\",\"WHITE PLAINS\",\"CAMDEN\",\"DETROIT\",\"MT VERNON\",\"NEW ROCHELLE\",\"DENVER\",\"DOVER\",\"WATERTOWN\",\"WATERBURY\",\"MONTCLAIR\",\"DANBURY\",\"FLUSHING\",\"UTICA\",\"MARYSVILLE\",\"HEMPSTEAD\",\"PITTSFIELD\",\"CONEY ISLAND\",\"HACKENSACK\"]\n",
    "for i in lissy_4:\n",
    "    replace_matches_in_column(data, \"CITY1\", i, min_ratio = 80)"
   ]
  },
  {
   "cell_type": "code",
   "execution_count": 30,
   "metadata": {
    "tags": []
   },
   "outputs": [
    {
     "output_type": "stream",
     "name": "stdout",
     "text": "DETROIT\n"
    }
   ],
   "source": [
    "temp = ['NI']\n",
    "for i in temp:  \n",
    "    index = data[data[\"STATE1\"] == i].index.tolist()[0]\n",
    "    value = data.loc[index,\"CITY1\"]\n",
    "    print(value)  "
   ]
  },
  {
   "cell_type": "code",
   "execution_count": 31,
   "metadata": {},
   "outputs": [],
   "source": [
    "def similar(df, column, string_to_match, min_ratio = 90):\n",
    "    # get a list of unique strings\n",
    "    strings = df[column].unique()\n",
    "    \n",
    "    # get the top 10 closest matches to our input string\n",
    "    matches = process.extract(string_to_match, strings, limit=10, scorer= fuzz.token_sort_ratio)\n",
    "\n",
    "    # only get matches with a ratio > 90\n",
    "    close_matches = [matches[0] for matches in matches if matches[1] >= min_ratio]\n",
    "\n",
    "    print(close_matches)"
   ]
  },
  {
   "cell_type": "code",
   "execution_count": 32,
   "metadata": {
    "tags": []
   },
   "outputs": [],
   "source": [
    "string = \"\"\"\"\"\"\n",
    "string = string.split()\n",
    "for i in range(len(string)):\n",
    "    if len(string[i])>1:\n",
    "        print(\"\\\"\", end = \"\")\n",
    "        print(string[i], end = \"\")\n",
    "        print(\"\\\"\", end = \"\")\n",
    "        print(\",\",end = \"\")\n"
   ]
  },
  {
   "cell_type": "code",
   "execution_count": 33,
   "metadata": {
    "tags": []
   },
   "outputs": [
    {
     "output_type": "stream",
     "name": "stdout",
     "text": "['CHARLESTOWN', 'CHARLESTON', 'HAGERSTOWN']\n['ALEXANDRIA']\n['GETTYSBURG']\n['AUGUSTA']\n['ST PAUL']\n['SUMMIT']\n['MORRISTOWN', 'NORRISTOWN']\n['TACOMA']\n['MILLSVILLE', 'BELLVILLE']\n['ANN ARBOR']\n['MANCHESTER']\n['LEWISTON', 'LEWISTOWN', 'LOUISTON']\n['DEER LODGE']\n['CORONA']\n['EUREKA']\n['HILLSBURG']\n['COURTLEE', 'CORTERET']\n['LINDEN']\n['LITTLE FALLS']\n['SPOKANE FALLS', 'SPOKAINE FALLS']\n['JACKSON']\n['MIDDLETOWN']\n['WHITTIKER']\n['MILBURN', 'MILLBURN']\n['MINNEAPOLIS', 'ANNAPOLIS']\n['MISSIOULA']\n['RAHWAY']\n['PORT ORLANDO']\n['ELMIRA']\n['DALLAS']\n['LYNN']\n['OGDEN']\n['NAUGATUCK']\n['AMERICAN CANYON']\n['OSSINING', 'OSISNING']\n['COLLINGSWOOD']\n['WEAVERVILLE']\n['GALVESTON']\n['HIGHLAND PARK']\n['YREKA']\n['BELLAIRE', 'BELLROSE']\n['DELVILLE', 'BELLVILLE', 'BELLEVILLE', 'DANVILLE']\n['PRINCETON', 'PRINCETONE']\n['RAPID CITY']\n['COLUSA']\n['DELSEY']\n['MODESTO']\n['GREENWICH']\n['GLENS FALLS', 'GLEN FALLS']\n['THE DAWLES']\n['ELMHURST', 'LINHURST']\n['BANGOR']\n['PASADENA']\n['MADISON']\n['CALESOTA']\n['SPOKAINE FALLS', 'SPOKANE FALLS']\n['IOWA CITY']\n['BLOOMFIELD']\n['UNION CITY']\n['SALT LAKE CITY']\n['VALLEGO', 'VALLEJO']\n['MUSCATINE']\n['BRADFORD', 'CRANFORD']\n['HELENA', 'ST HELENA', 'CHELSEA']\n['HARRISBURG']\n['PALMYRA']\n['OAKVILLE', 'PARKVILL', 'OROVILLE', 'DANVILLE']\n['NORRISTOWN', 'MORRISTOWN']\n['SHELTON', 'STEELTON', 'HAZELTON']\n['GLOBE CITY']\n['GLEN FALLS', 'GLENS FALLS']\n['GRANTSWOOD', 'GRANTWOOD']\n['ANACONDA']\n['HASBROUCK HEIGHTS']\n['IRVINGTON', 'ARLINGTON', 'COVINGTON']\n['LYNBROOK']\n['SALEM']\n['EASTON', 'EVANSTON', 'EASTOW']\n['GREENVILLE', 'GRANVILLE']\n['MT. KISCO']\n['WILLIAMSTOWN']\n['SAUSELITO']\n['POMPTON LAKES']\n['MILES CITY']\n['SACALINDA']\n['WINTERVILLE']\n['ST HELENA', 'HELENA']\n['NEW LONDON']\n['WALLA WALLA']\n['UNION HILL']\n['BAKER CITY']\n['QUANTICO']\n['MASPETH']\n['MEMPHIS']\n['DUNKIRK']\n['PORT EYE', 'FREEPORT']\n['CRANFORD', 'BRADFORD', 'STANFORD']\n['TUCSON']\n['POUGHKEEPSIE', 'ROUGHKEEPSIE']\n['FRANKLIN']\n['SAG HARBOR']\n['PITTSBURG', 'PITTSBURGH', 'PLATTSBURGH']\n['LAKEWOOD']\n['METUCHEN']\n['TAMPA']\n['RICHFORD', 'RICHMOND']\n['NEWTON']\n['ALVARADO']\n['MAYFIELD']\n['PALISADES PARK']\n['BLACKHAWK']\n['SAN JUAN']\n['FOREST HILLS']\n['DELAWARE']\n['HOPSON CREEK']\n['VACAVILLE']\n['BELLA VISTA']\n"
    }
   ],
   "source": [
    "lissy_5 = [\"CHARLESTOWN\",\"ALEXANDRIA\",\"GETTYSBURG\",\"AUGUSTA\",\"ST PAUL\",\"SUMMIT\",\"MORRISTOWN\",\"TACOMA\",\"MILLVILLE\",\"ANN ARBOR\",\"MANCHESTER\",\"LEWISTON\",\"DEER LODGE\",\"CORONA\",\"EUREKA\",\"HILLSBURG\",\"COURTLEE\",\"LINDEN\",\"LITTLE FALLS\",\"SPOKANE FALLS\",\"JACKSON\",\"MIDDLETOWN\",\"WHITTIKER\",\"MILBURN\",\"MINNEAPOLIS\",\"MISSIOULA\",\"RAHWAY\",\"PORT ORLANDO\",\"ELMIRA\",\"DALLAS\",\"LYNN\",\"OGDEN\",\"NAUGATUCK\",\"AMERICAN CANYON\",\"OSSINING\",\"COLLINGSWOOD\",\"WEAVERVILLE\",\"GALVESTON\",\"HIGHLAND PARK\",\"YREKA\",\"BELLAIRE\",\"DELVILLE\",\"PRINCETON\",\"RAPID CITY\",\"COLUSA\",\"DELSEY\",\"MODESTO\",\"GREENWICH\",\"GLENS FALLS\",\"THE DAWLES\",\"ELMHURST\",\"BANGOR\",\"PASADENA\",\"MADISON\",\"CALESOTA\",\"SPOKAINE FALLS\",\"IOWA CITY\",\"BLOOMFIELD\",\"UNION CITY\",\"SALT LAKE CITY\",\"VALLEGO\",\"MUSCATINE\",\"BRADFORD\",\"HELENA\",\"HARRISBURG\",\"PALMYRA\",\"OAKVILLE\",\"NORRISTOWN\",\"SHELTON\",\"GLOBE CITY\",\"GLEN FALLS\",\"GRANTSWOOD\",\"ANACONDA\",\"HASBROUCK HEIGHTS\",\"IRVINGTON\",\"LYNBROOK\",\"SALEM\",\"EASTON\",\"GREENVILLE\",\"MT. KISCO\",\"WILLIAMSTOWN\",\"SAUSELITO\",\"POMPTON LAKES\",\"MILES CITY\",\"SACALINDA\",\"WINTERVILLE\",\"ST HELENA\",\"NEW LONDON\",\"WALLA WALLA\",\"UNION HILL\",\"BAKER CITY\",\"QUANTICO\",\"MASPETH\",\"MEMPHIS\",\"DUNKIRK\",\"PORT EYE\",\"CRANFORD\",\"TUCSON\",\"POUGHKEEPSIE\",\"FRANKLIN\",\"SAG HARBOR\",\"PITTSBURG\",\"LAKEWOOD\",\"METUCHEN\",\"TAMPA\",\"RICHFORD\",\"NEWTON\",\"ALVARADO\",\"MAYFIELD\",\"PALISADES PARK\",\"BLACKHAWK\",\"SAN JUAN\",\"FOREST HILLS\",\"DELAWARE\",\"HOPSON CREEK\",\"VACAVILLE\",\"BELLA VISTA\",]\n",
    "for i in lissy_5:\n",
    "    similar(data, \"CITY1\", i, min_ratio = 75)\n",
    "\n",
    "\n",
    "\n"
   ]
  },
  {
   "cell_type": "code",
   "execution_count": 34,
   "metadata": {
    "tags": []
   },
   "outputs": [
    {
     "output_type": "stream",
     "name": "stdout",
     "text": "done\n"
    }
   ],
   "source": [
    "data.loc[:,\"CITY1\"].replace('NEWPORT NEWS', 'NEWPORT',inplace = True)\n",
    "data.loc[:,\"CITY1\"].replace('MILLSVILLE', 'MILLVILLE', inplace = True)\n",
    "data.loc[:,\"CITY1\"].replace('MECHANSVILLE', 'MECHANICVILLE', inplace = True)\n",
    "data.loc[:,\"CITY1\"].replace('BEACFIELD', 'BEACHFIELD', inplace = True)\n",
    "data.loc[:,\"CITY1\"].replace(['RICHMOND HILL''RICHMOND HILLS',\"'RICHMONT HILL'\"], 'RICHMOND', inplace = True)\n",
    "data.loc[:,\"CITY1\"].replace(['S. NORWALK','SOUTH NORWALK'], 'NORWALK', inplace = True)\n",
    "data.loc[:,\"CITY1\"].replace('STANFORD', 'STAMFORD', inplace = True)\n",
    "data.loc[:,\"CITY1\"].replace('DUTCH FLATS', 'DUTCH FLAT', inplace = True)\n",
    "data.loc[:,\"CITY1\"].replace('KEYWEST', 'KEY WEST', inplace = True)\n",
    "data.loc[:,\"CITY1\"].replace('BERKLEY', 'BERKELEY', inplace = True)\n",
    "data.loc[:,\"CITY1\"].replace(['MINEOLA', 'MINEOZA', 'NINEALA',\"PAWWOOD L.I.\"], \"LONG ISLAND\", inplace = True)\n",
    "data.loc[:,\"'CITY1\"] = data.loc[:,\"CITY1\"].replace('PITTSBURG', 'PITTSBURGH',inplace=True)\n",
    "data.loc[:,\"'CITY1\"] = data.loc[:,\"CITY1\"].replace('BELLVILLE', 'BELLEVILLE',inplace=True)\n",
    "data.loc[:,\"'CITY1\"] = data.loc[:,\"CITY1\"].replace('LEWISTON', 'LEWISTOWN',inplace=True)\n",
    "data.loc[:,\"'CITY1\"] = data.loc[:,\"CITY1\"].replace('GLEN FALLS', 'GLENS FALLS',inplace=True)\n",
    "data.loc[:,\"'CITY1\"] = data.loc[:,\"CITY1\"].replace(['SPOKANE FALLS', 'SPOKAINE FALLS'], 'SPOKANE',inplace=True)\n",
    "data.loc[:,\"'CITY1\"] = data.loc[:,\"CITY1\"].replace('MILBURN', 'MILLBURN',inplace=True)\n",
    "data.loc[:,\"'CITY1\"] = data.loc[:,\"CITY1\"].replace('OSISNING', 'OSSINING',inplace=True)\n",
    "data.loc[:,\"'CITY1\"] = data.loc[:,\"CITY1\"].replace('OSISNING', 'OSSINING',inplace=True)\n",
    "data.loc[:,\"'CITY1\"] = data.loc[:,\"CITY1\"].replace('PRINCETONE', 'PRINCETON',inplace=True)\n",
    "data.loc[:,\"'CITY1\"] = data.loc[:,\"CITY1\"].replace('BELLAIRE', 'JAMAICA',inplace=True)\n",
    "data.loc[:,\"'CITY1\"] = data.loc[:,\"CITY1\"].replace('BELLROSE', 'BELLEROSE',inplace=True)\n",
    "data.loc[:,\"'CITY1\"] = data.loc[:,\"CITY1\"].replace('VALLEGO', 'VALLEJO',inplace=True)\n",
    "data.loc[:,\"'CITY1\"] = data.loc[:,\"CITY1\"].replace('WILMOW', 'WILMORE',inplace=True)\n",
    "\n",
    "print(\"done\")"
   ]
  },
  {
   "cell_type": "code",
   "execution_count": 35,
   "metadata": {},
   "outputs": [
    {
     "output_type": "execute_result",
     "data": {
      "text/plain": "NY         7136\nCA         1151\nNJ          693\nPA          530\nMA          186\nMD          152\nCT          133\nOR           82\nDC           79\nWA           61\nIL           46\nOH           39\nVA           39\nMT           34\nRI           20\n?            19\nMI           18\nCO           13\nNE           12\nFL           11\nTX           10\nME            9\nMO            7\nVT            6\nMN            6\nIN            6\nSD            5\nIA            5\nID            5\nLA            5\nDE            5\nGA            4\nNV            4\nTN            4\nUT            4\nHI            3\nMS            3\nSC            3\nNH            3\nWY            3\nKS            2\nKT            2\nNC            2\nOK            2\nAR            1\nNI            1\nWI            1\nKY            1\nAZ            1\nSAFRICA       1\nN             1\nAL            1\nAK            1\nIO            1\nVI            1\nWV            1\nST            1\n[A            1\nCANADA        1\nY             1\nName: STATE1, dtype: int64"
     },
     "metadata": {},
     "execution_count": 35
    }
   ],
   "source": [
    "data[\"STATE1\"].value_counts()\n"
   ]
  },
  {
   "cell_type": "code",
   "execution_count": 36,
   "metadata": {},
   "outputs": [],
   "source": [
    "data.loc[:,\"'STATE1\"] = data.loc[:,\"STATE1\"].replace(['Y','N'], 'NY',inplace=True)\n",
    "data.loc[:,\"'STATE1\"] = data.loc[:,\"STATE1\"].replace('NI', 'MI',inplace=True)\n",
    "data.loc[:,\"'STATE1\"] = data.loc[:,\"STATE1\"].replace('IO', 'ID',inplace=True)\n",
    "data.loc[:,\"'STATE1\"] = data.loc[:,\"STATE1\"].replace('ST', 'MD',inplace=True)\n",
    "data.loc[:,\"'STATE1\"] = data.loc[:,\"STATE1\"].replace('[A', 'PA',inplace=True)\n",
    "data.loc[:,\"'STATE1\"] = data.loc[:,\"STATE1\"].replace('VI', 'NC',inplace=True)\n",
    "data.loc[:,\"'STATE1\"] = data.loc[:,\"STATE1\"].replace('AR', 'AZ',inplace=True)\n",
    "data.loc[:,\"'STATE1\"] = data.loc[:,\"STATE1\"].replace('KT', 'KY',inplace=True)\n",
    "data.loc[5976,\"STATE1\"] = \"FL\"\n",
    "data.loc[6142,\"STATE1\"] = \"WA\"\n",
    "data.loc[6143,\"STATE1\"] = \"WA\"\n",
    "data.loc[6276,\"STATE1\"] = \"CA\"\n",
    "data.loc[6277,\"STATE1\"] = \"CA\"\n",
    "data.loc[6344,\"STATE1\"] = \"AZ\"\n",
    "data.loc[6345,\"STATE1\"] = \"AZ\"\n",
    "data.loc[6391,\"STATE1\"] = \"NJ\"\n",
    "data.loc[6392,\"STATE1\"] = \"NJ\"\n",
    "data.loc[6621,\"STATE1\"] = \"CANADA\"\n",
    "data.loc[6622,\"STATE1\"] = \"CANADA\"\n",
    "data.loc[6710,\"STATE1\"] = \"PA\""
   ]
  },
  {
   "cell_type": "code",
   "execution_count": 37,
   "metadata": {
    "tags": []
   },
   "outputs": [
    {
     "output_type": "stream",
     "name": "stdout",
     "text": "5775\nTHE DAWLES\n"
    }
   ],
   "source": [
    "temp = ['?']\n",
    "for i in temp:  \n",
    "    index = data[data[\"STATE1\"] == i].index.tolist()[0]\n",
    "    value = data.loc[index,\"CITY1\"]\n",
    "    print(index) \n",
    "    print(value) "
   ]
  },
  {
   "cell_type": "code",
   "execution_count": 38,
   "metadata": {},
   "outputs": [],
   "source": [
    "data.to_csv(\"./output_1.csv\")"
   ]
  },
  {
   "cell_type": "code",
   "execution_count": null,
   "metadata": {},
   "outputs": [],
   "source": []
  }
 ],
 "metadata": {
  "language_info": {
   "codemirror_mode": {
    "name": "ipython",
    "version": 3
   },
   "file_extension": ".py",
   "mimetype": "text/x-python",
   "name": "python",
   "nbconvert_exporter": "python",
   "pygments_lexer": "ipython3",
   "version": "3.7.6-final"
  },
  "orig_nbformat": 2,
  "kernelspec": {
   "name": "python37664bitbaseconda9396a013266446118b08660296d406cb",
   "display_name": "Python 3.7.6 64-bit ('base': conda)"
  }
 },
 "nbformat": 4,
 "nbformat_minor": 2
}